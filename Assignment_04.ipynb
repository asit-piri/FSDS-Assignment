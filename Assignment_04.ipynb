{
  "nbformat": 4,
  "nbformat_minor": 0,
  "metadata": {
    "colab": {
      "provenance": []
    },
    "kernelspec": {
      "name": "python3",
      "display_name": "Python 3"
    },
    "language_info": {
      "name": "python"
    }
  },
  "cells": [
    {
      "cell_type": "markdown",
      "source": [
        "# Assignment Topic: 04\n",
        "\n",
        "### Done By: Asit Piri"
      ],
      "metadata": {
        "id": "wDGlVKA53j4g"
      }
    },
    {
      "cell_type": "markdown",
      "source": [
        "**Question 1**: What exactly is []?"
      ],
      "metadata": {
        "id": "tUqq_MrN3p9T"
      }
    },
    {
      "cell_type": "markdown",
      "source": [
        "In Python, [] represents an empty list. A list is a collection of items enclosed in square brackets [], where the items can be of any data type and separated by commas.\n",
        "\n",
        "An empty list [] has no elements, and it is used to represent a list with zero items. It is commonly used as a starting point to which items can be added later or as a placeholder when creating lists dynamically.\n",
        "\n",
        "Here's an example of an empty list:"
      ],
      "metadata": {
        "id": "8FLmM5ysbqag"
      }
    },
    {
      "cell_type": "code",
      "source": [
        "my_list = []  # Empty list"
      ],
      "metadata": {
        "id": "WXkYx5Aj3-yL"
      },
      "execution_count": null,
      "outputs": []
    },
    {
      "cell_type": "markdown",
      "source": [
        "We can add elements to the list using the append() method or by directly assigning values to specific indices. For example:"
      ],
      "metadata": {
        "id": "JNncTv8rbxsi"
      }
    },
    {
      "cell_type": "code",
      "source": [
        "my_list.append(10)  # Add an element to the list\n",
        "my_list.append(20)\n",
        "my_list"
      ],
      "metadata": {
        "colab": {
          "base_uri": "https://localhost:8080/"
        },
        "id": "zCGEDELgb7VN",
        "outputId": "95353b5b-bb7a-42e5-e1f6-f3652da12f6b"
      },
      "execution_count": null,
      "outputs": [
        {
          "output_type": "execute_result",
          "data": {
            "text/plain": [
              "[10, 20]"
            ]
          },
          "metadata": {},
          "execution_count": 8
        }
      ]
    },
    {
      "cell_type": "markdown",
      "source": [
        "Lists are versatile data structures in Python that allow you to store and manipulate collections of items efficiently."
      ],
      "metadata": {
        "id": "o5B0W5zYchrA"
      }
    },
    {
      "cell_type": "markdown",
      "source": [
        "**Question 2**: In a list of values stored in a variable called spam, how would you assign the value 'hello' as the third value? (Assume [2, 4, 6, 8, 10] are in spam.)\n",
        "\n",
        "Let's pretend the spam includes the list ['a', 'b', 'c', 'd'] for the next three queries."
      ],
      "metadata": {
        "id": "UggGCJWv32Vd"
      }
    },
    {
      "cell_type": "markdown",
      "source": [
        "To assign the value 'hello' as the third value in the list stored in the variable spam, you can use the indexing operator [] and assign the value directly.\n",
        "\n",
        "Here's an example:"
      ],
      "metadata": {
        "id": "Ia7LgqWIc3n5"
      }
    },
    {
      "cell_type": "code",
      "source": [
        "spam = [2, 4, 6, 8, 10]  # Original list\n",
        "spam[2] = 'hello'  # Assign 'hello' as the third value\n",
        "\n",
        "print(spam)"
      ],
      "metadata": {
        "id": "IsgFzfqh35yq",
        "colab": {
          "base_uri": "https://localhost:8080/"
        },
        "outputId": "3a156c73-1d2b-4739-ab33-746f4809db78"
      },
      "execution_count": null,
      "outputs": [
        {
          "output_type": "stream",
          "name": "stdout",
          "text": [
            "[2, 4, 'hello', 8, 10]\n"
          ]
        }
      ]
    },
    {
      "cell_type": "markdown",
      "source": [
        "The third value in the list spam is at index 2 since indexing starts from 0. By assigning the value 'hello' to spam[2], we replace the existing value at that index with the new value."
      ],
      "metadata": {
        "id": "OzBE8w6FdC_W"
      }
    },
    {
      "cell_type": "markdown",
      "source": [
        "**Question 3**: What is the value of spam[int(int('3' * 2) / 11)]?"
      ],
      "metadata": {
        "id": "1ejvEmWp32dV"
      }
    },
    {
      "cell_type": "markdown",
      "source": [
        "The value of spam[int(int('3' * 2) / 11)] can be determined by breaking down the expression:\n",
        "\n",
        "*  '3' * 2 evaluates to the string '33'.\n",
        "*   int('33') converts the string '33' to an integer, which results in the value 33.\n",
        "*   int('33') / 11 performs integer division, dividing 33 by 11, resulting in the value 3.\n",
        "*   spam[3] accesses the element at index 3 in the list spam.\n",
        "*   So, the value of spam[int(int('3' * 2) / 11)] depends on the contents of the spam list. If spam is ['a', 'b', 'c', 'd'], then the value would be 'd', as 'd' "
      ],
      "metadata": {
        "id": "cFdCR30seGis"
      }
    },
    {
      "cell_type": "code",
      "source": [
        "spam[int(int('3' * 2) / 11)]"
      ],
      "metadata": {
        "id": "63euDfdu37Do",
        "colab": {
          "base_uri": "https://localhost:8080/"
        },
        "outputId": "97d6b3e1-5b46-45c6-a9a7-1e473e1e9e26"
      },
      "execution_count": null,
      "outputs": [
        {
          "output_type": "execute_result",
          "data": {
            "text/plain": [
              "8"
            ]
          },
          "metadata": {},
          "execution_count": 12
        }
      ]
    },
    {
      "cell_type": "markdown",
      "source": [
        "**Question 4**: What is the value of spam[-1]?"
      ],
      "metadata": {
        "id": "2YmJpW-H32hD"
      }
    },
    {
      "cell_type": "code",
      "source": [
        "print(spam)\n",
        "spam[-1] #output is 10"
      ],
      "metadata": {
        "id": "_zlyXstv385X",
        "colab": {
          "base_uri": "https://localhost:8080/"
        },
        "outputId": "7aace882-f7ed-460c-af95-8cad7ac5b2aa"
      },
      "execution_count": null,
      "outputs": [
        {
          "output_type": "stream",
          "name": "stdout",
          "text": [
            "[2, 4, 'hello', 8, 10]\n"
          ]
        },
        {
          "output_type": "execute_result",
          "data": {
            "text/plain": [
              "10"
            ]
          },
          "metadata": {},
          "execution_count": 15
        }
      ]
    },
    {
      "cell_type": "markdown",
      "source": [
        "**Question 5**: What is the value of spam[:2]?"
      ],
      "metadata": {
        "id": "RceIbI0J32k1"
      }
    },
    {
      "cell_type": "code",
      "source": [
        "print(spam)\n",
        "spam[:2]"
      ],
      "metadata": {
        "id": "Q86CeiPI39_r",
        "colab": {
          "base_uri": "https://localhost:8080/"
        },
        "outputId": "296fcffe-3ab4-4944-ea50-912ac9ea1ffb"
      },
      "execution_count": null,
      "outputs": [
        {
          "output_type": "stream",
          "name": "stdout",
          "text": [
            "[2, 4, 'hello', 8, 10]\n"
          ]
        },
        {
          "output_type": "execute_result",
          "data": {
            "text/plain": [
              "[2, 4]"
            ]
          },
          "metadata": {},
          "execution_count": 17
        }
      ]
    },
    {
      "cell_type": "markdown",
      "source": [
        "**Question 6**: What is the value of bacon.index('cat')?\n",
        "\n",
        "Let's pretend bacon has the list [3.14, 'cat,' 11, 'cat,' True] for the next three questions."
      ],
      "metadata": {
        "id": "50tPH05f33WZ"
      }
    },
    {
      "cell_type": "code",
      "source": [
        "bacon = [3.14, 'cat', 11, 'cat', True]\n",
        "print(bacon)\n",
        "\n",
        "bacon.index('cat') # Output: 1"
      ],
      "metadata": {
        "id": "RWauEGTv4Jnx",
        "colab": {
          "base_uri": "https://localhost:8080/"
        },
        "outputId": "f8e29b74-074b-4887-beba-bc9df81638f3"
      },
      "execution_count": null,
      "outputs": [
        {
          "output_type": "stream",
          "name": "stdout",
          "text": [
            "[3.14, 'cat', 11, 'cat', True]\n"
          ]
        },
        {
          "output_type": "execute_result",
          "data": {
            "text/plain": [
              "1"
            ]
          },
          "metadata": {},
          "execution_count": 25
        }
      ]
    },
    {
      "cell_type": "markdown",
      "source": [
        "**Question 7**: How does bacon.append(99) change the look of the list value in bacon?"
      ],
      "metadata": {
        "id": "X6MoHwJ333g0"
      }
    },
    {
      "cell_type": "markdown",
      "source": [
        "The bacon.append(99) method call will add the value 99 to the end of the list bacon. After executing bacon.append(99), the updated list bacon will look like this:\n",
        "\n",
        "[3.14, 'cat', 11, 'cat', True, 99]\n",
        "\n",
        "The append() method in Python is used to add an element to the end of a list, and in this case, it adds the integer 99 as the last element in the bacon list."
      ],
      "metadata": {
        "id": "BaWf-zr5hBC6"
      }
    },
    {
      "cell_type": "code",
      "source": [
        "print(bacon)\n",
        "bacon.append(99)\n",
        "print(bacon)"
      ],
      "metadata": {
        "id": "9BbPqdWE4OzT",
        "colab": {
          "base_uri": "https://localhost:8080/"
        },
        "outputId": "9c765fc6-45c0-4b30-830b-1328ed2eea41"
      },
      "execution_count": null,
      "outputs": [
        {
          "output_type": "stream",
          "name": "stdout",
          "text": [
            "[3.14, 'cat', 11, 'cat', True]\n",
            "[3.14, 'cat', 11, 'cat', True, 99]\n"
          ]
        }
      ]
    },
    {
      "cell_type": "markdown",
      "source": [
        "**Question 8**: How does bacon.remove('cat') change the look of the list in bacon?"
      ],
      "metadata": {
        "id": "BSVwpkTk33oh"
      }
    },
    {
      "cell_type": "markdown",
      "source": [
        "The bacon.remove('cat') method call will remove the first occurrence of the value 'cat' from the list bacon. After executing bacon.remove('cat'), the updated list bacon will look like this:\n",
        "\n",
        "[3.14, 11, 'cat', True, 99]\n",
        "\n",
        "The remove() method in Python is used to remove the first occurrence of a specified element from a list. In this case, it removes the first occurrence of the string 'cat' from the bacon list."
      ],
      "metadata": {
        "id": "K71yDDA0hhTy"
      }
    },
    {
      "cell_type": "code",
      "source": [
        "print(bacon)\n",
        "bacon.remove('cat')"
      ],
      "metadata": {
        "id": "o5oVessz4SSW",
        "colab": {
          "base_uri": "https://localhost:8080/"
        },
        "outputId": "6b37ba7d-f217-402b-a772-34a8aa21ed87"
      },
      "execution_count": null,
      "outputs": [
        {
          "output_type": "stream",
          "name": "stdout",
          "text": [
            "[3.14, 'cat', 11, 'cat', True, 99]\n"
          ]
        }
      ]
    },
    {
      "cell_type": "code",
      "source": [
        "print(bacon)"
      ],
      "metadata": {
        "colab": {
          "base_uri": "https://localhost:8080/"
        },
        "id": "8AOkrLUvhplJ",
        "outputId": "c98ff2f3-4474-4e82-b11f-ff52e3d3551c"
      },
      "execution_count": null,
      "outputs": [
        {
          "output_type": "stream",
          "name": "stdout",
          "text": [
            "[3.14, 11, 'cat', True, 99]\n"
          ]
        }
      ]
    },
    {
      "cell_type": "markdown",
      "source": [
        "**Question 9**: What are the list concatenation and list replication operators?"
      ],
      "metadata": {
        "id": "hGfcK6y_33zk"
      }
    },
    {
      "cell_type": "markdown",
      "source": [
        "The **list concatenation operator in Python is the + operator**. It is used to concatenate two lists, creating a new list that contains all the elements from both lists.\n",
        "\n",
        "Example:"
      ],
      "metadata": {
        "id": "KVlHrBauh4Wl"
      }
    },
    {
      "cell_type": "code",
      "source": [
        "list1 = [1, 2, 3]\n",
        "list2 = [4, 5, 6]\n",
        "concatenated_list = list1 + list2\n",
        "print(concatenated_list) # Output:[1, 2, 3, 4, 5, 6]"
      ],
      "metadata": {
        "id": "Zcx04gRk4Tk2",
        "colab": {
          "base_uri": "https://localhost:8080/"
        },
        "outputId": "1bd4a57d-35ea-4cb7-a451-4b47348a477c"
      },
      "execution_count": null,
      "outputs": [
        {
          "output_type": "stream",
          "name": "stdout",
          "text": [
            "[1, 2, 3, 4, 5, 6]\n"
          ]
        }
      ]
    },
    {
      "cell_type": "markdown",
      "source": [
        "The list replication operator in Python is the * operator. It is used to create a new list by replicating the elements of an existing list a certain number of times."
      ],
      "metadata": {
        "id": "N1kZYkNBi26g"
      }
    },
    {
      "cell_type": "code",
      "source": [
        "list1 = [1, 2, 3]\n",
        "replicated_list = list1 * 3\n",
        "print(replicated_list) #Output: [1, 2, 3, 1, 2, 3, 1, 2, 3]"
      ],
      "metadata": {
        "colab": {
          "base_uri": "https://localhost:8080/"
        },
        "id": "Y7mYloBEiMAg",
        "outputId": "83ec4322-d4f2-4515-9b91-b958c855b07f"
      },
      "execution_count": null,
      "outputs": [
        {
          "output_type": "stream",
          "name": "stdout",
          "text": [
            "[1, 2, 3, 1, 2, 3, 1, 2, 3]\n"
          ]
        }
      ]
    },
    {
      "cell_type": "markdown",
      "source": [
        "**Note that the list replication operator replicates the references to the list elements, so if the elements are mutable objects, changes to one occurrence of an element may affect other occurrences as well.**"
      ],
      "metadata": {
        "id": "EOPJcDt6iZ3z"
      }
    },
    {
      "cell_type": "markdown",
      "source": [
        "**Question 10**: What is difference between the list methods append() and insert()?"
      ],
      "metadata": {
        "id": "LJZFkP6u34FQ"
      }
    },
    {
      "cell_type": "markdown",
      "source": [
        "The **append()** and **insert()** methods are both used to add elements to a list in Python, but they differ in how the elements are added.\n",
        "\n",
        "The **append() method is used to add an element to the end of a list**. It **modifies the list in-place by adding the element as the last item.**\n",
        "\n",
        "Example:"
      ],
      "metadata": {
        "id": "dNQIaQI_jS1c"
      }
    },
    {
      "cell_type": "code",
      "source": [
        "my_list = [1, 2, 3]\n",
        "my_list.append(4)\n",
        "print(my_list) # Output: [1, 2, 3, 4]"
      ],
      "metadata": {
        "id": "2jO1tc3130ed",
        "colab": {
          "base_uri": "https://localhost:8080/"
        },
        "outputId": "468a065d-bf10-45f0-9bbe-3ced10051b78"
      },
      "execution_count": null,
      "outputs": [
        {
          "output_type": "stream",
          "name": "stdout",
          "text": [
            "[1, 2, 3, 4]\n"
          ]
        }
      ]
    },
    {
      "cell_type": "markdown",
      "source": [
        "The **insert() method**, **is used to insert an element at a specific position in the list**. It takes two arguments: the index at which to insert the element and the element itself. The elements in the list after the specified index are shifted to the right.\n",
        "\n",
        "Example:"
      ],
      "metadata": {
        "id": "DfplzF1yjj_h"
      }
    },
    {
      "cell_type": "code",
      "source": [
        "my_list = [1, 2, 3]\n",
        "my_list.insert(1, 5)\n",
        "print(my_list) # Output: [1, 5, 2, 3]"
      ],
      "metadata": {
        "id": "EoKClVpKHq8w",
        "colab": {
          "base_uri": "https://localhost:8080/"
        },
        "outputId": "ac4a8ad1-c67b-4bcc-8cc9-11a7f7595d48"
      },
      "execution_count": null,
      "outputs": [
        {
          "output_type": "stream",
          "name": "stdout",
          "text": [
            "[1, 5, 2, 3]\n"
          ]
        }
      ]
    },
    {
      "cell_type": "markdown",
      "source": [
        "**append() adds an element to the end of the list**, **while insert() allows you to specify the position where the element should be inserted.**"
      ],
      "metadata": {
        "id": "j97yI7kbj7Mz"
      }
    },
    {
      "cell_type": "markdown",
      "source": [
        "**Question 11**: What are the two methods for removing items from a list?"
      ],
      "metadata": {
        "id": "0CSd7WdmHq8h"
      }
    },
    {
      "cell_type": "markdown",
      "source": [
        "**remove():** The remove() method is used to remove the first occurrence of a specified value from the list. It searches for the value in the list, and if found, removes it. If the value is not found, it raises a ValueError. This method modifies the list in-place.\n",
        "Example:"
      ],
      "metadata": {
        "id": "EmGSQ0-Lkqs7"
      }
    },
    {
      "cell_type": "code",
      "source": [
        "my_list = [1, 2, 3, 2, 4]\n",
        "print(my_list)\n",
        "my_list.remove(2)\n",
        "print(my_list)"
      ],
      "metadata": {
        "id": "6fhbOgoXHrDU",
        "colab": {
          "base_uri": "https://localhost:8080/"
        },
        "outputId": "1a0aa61e-c123-49a1-f711-e604dc8d2267"
      },
      "execution_count": null,
      "outputs": [
        {
          "output_type": "stream",
          "name": "stdout",
          "text": [
            "[1, 2, 3, 2, 4]\n",
            "[1, 3, 2, 4]\n"
          ]
        }
      ]
    },
    {
      "cell_type": "markdown",
      "source": [
        "**pop():** The pop() method is used to remove an element from a specific index in the list. It takes an optional index parameter and returns the removed element. If the index is not specified, it removes and returns the last element in the list. This method modifies the list in-place.\n",
        "Example:"
      ],
      "metadata": {
        "id": "qKYs8rHVk_Ho"
      }
    },
    {
      "cell_type": "code",
      "source": [
        "my_list = [1, 2, 3, 4]\n",
        "print(my_list)\n",
        "removed_element = my_list.pop(1)\n",
        "print(my_list)\n",
        "print(removed_element)"
      ],
      "metadata": {
        "colab": {
          "base_uri": "https://localhost:8080/"
        },
        "id": "BWXhzStklCyI",
        "outputId": "3cb1cb69-99da-415b-93b5-d3796c9336bc"
      },
      "execution_count": null,
      "outputs": [
        {
          "output_type": "stream",
          "name": "stdout",
          "text": [
            "[1, 2, 3, 4]\n",
            "[1, 3, 4]\n",
            "2\n"
          ]
        }
      ]
    },
    {
      "cell_type": "markdown",
      "source": [
        "**The remove() method removes an element by its value, while the pop() method removes an element by its index and returns the removed element.**"
      ],
      "metadata": {
        "id": "pdLOQRX_lLHJ"
      }
    },
    {
      "cell_type": "markdown",
      "source": [
        "**Question 12**: Describe how list values and string values are identical."
      ],
      "metadata": {
        "id": "SDKhMUcDHrDT"
      }
    },
    {
      "cell_type": "markdown",
      "source": [
        "**List values** and **string values** in Python share some similarities, but they also have important differences. Here are some ways in which list values and string values are similar or identical:\n",
        "\n",
        "**Indexing:** Both lists and strings can be accessed using index values. Individual elements or characters can be retrieved by specifying their position within square brackets. For example:"
      ],
      "metadata": {
        "id": "KkDwzpQMlUZV"
      }
    },
    {
      "cell_type": "code",
      "source": [
        "my_list = [1, 2, 3, 4]\n",
        "my_string = \"Hello\"\n",
        "print(my_list[2])    # Output: 3\n",
        "print(my_string[1])  # Output: 'e'"
      ],
      "metadata": {
        "colab": {
          "base_uri": "https://localhost:8080/"
        },
        "id": "vNLtXX1ZltDq",
        "outputId": "f29d6faf-af50-430c-a1fb-af3d40729456"
      },
      "execution_count": null,
      "outputs": [
        {
          "output_type": "stream",
          "name": "stdout",
          "text": [
            "3\n",
            "e\n"
          ]
        }
      ]
    },
    {
      "cell_type": "markdown",
      "source": [
        "**Slicing:** Both lists and strings support slicing, which allows you to extract a portion of the sequence. Slicing is done using a start index, an end index, and an optional step value. For example:"
      ],
      "metadata": {
        "id": "vj24qo17l4VH"
      }
    },
    {
      "cell_type": "code",
      "source": [
        "my_list = [1, 2, 3, 4, 5]\n",
        "my_string = \"Hello, World!\"\n",
        "print(my_list[1:4])         # Output: [2, 3, 4]\n",
        "print(my_string[7:12:2])    # Output: 'Wrd'"
      ],
      "metadata": {
        "colab": {
          "base_uri": "https://localhost:8080/"
        },
        "id": "ahKQDRDll-rQ",
        "outputId": "1815347d-6e02-493a-c3f9-ad16396ff058"
      },
      "execution_count": null,
      "outputs": [
        {
          "output_type": "stream",
          "name": "stdout",
          "text": [
            "[2, 3, 4]\n",
            "Wrd\n"
          ]
        }
      ]
    },
    {
      "cell_type": "markdown",
      "source": [
        "**Length:** Both lists and strings have a length, which can be obtained using the len() function. It returns the number of elements in a list or the number of characters in a string. For example:"
      ],
      "metadata": {
        "id": "DKubsc55mPhE"
      }
    },
    {
      "cell_type": "code",
      "source": [
        "my_list = [1, 2, 3, 4, 5]\n",
        "my_string = \"Hello\"\n",
        "print(len(my_list))    # Output: 5\n",
        "print(len(my_string))  # Output: 5"
      ],
      "metadata": {
        "colab": {
          "base_uri": "https://localhost:8080/"
        },
        "id": "LzpcK_aVmRds",
        "outputId": "94a52145-01e5-4675-8f48-45227212d02c"
      },
      "execution_count": null,
      "outputs": [
        {
          "output_type": "stream",
          "name": "stdout",
          "text": [
            "5\n",
            "5\n"
          ]
        }
      ]
    },
    {
      "cell_type": "markdown",
      "source": [
        "**Iteration:** Both lists and strings can be iterated over using loops. This allows you to access each element or character sequentially. For example:"
      ],
      "metadata": {
        "id": "y-etGh8tmbGW"
      }
    },
    {
      "cell_type": "code",
      "source": [
        "my_list = [1, 2, 3, 4]\n",
        "my_string = \"Hello\"\n",
        "for item in my_list:\n",
        "    print(item)\n",
        "for char in my_string:\n",
        "    print(char)"
      ],
      "metadata": {
        "colab": {
          "base_uri": "https://localhost:8080/"
        },
        "id": "-8vz6v0AmhYw",
        "outputId": "a1ce0f35-7131-40af-b3dd-f166a960e9b1"
      },
      "execution_count": null,
      "outputs": [
        {
          "output_type": "stream",
          "name": "stdout",
          "text": [
            "1\n",
            "2\n",
            "3\n",
            "4\n",
            "H\n",
            "e\n",
            "l\n",
            "l\n",
            "o\n"
          ]
        }
      ]
    },
    {
      "cell_type": "markdown",
      "source": [
        "However, it's important to note that **lists and strings are different in terms of mutability, data types, and specific operations that are applicable to each**. \n",
        "\n",
        "**Lists are mutable,** meaning their elements can be modified, added, or removed. \n",
        "\n",
        "**Strings,** on the other hand, **are immutable**, **and their individual characters cannot be changed once created.**"
      ],
      "metadata": {
        "id": "QXSZ1fkmmlkb"
      }
    },
    {
      "cell_type": "markdown",
      "source": [
        "**Question 13**: What's the difference between tuples and lists?"
      ],
      "metadata": {
        "id": "XJ1-2OVRHrLb"
      }
    },
    {
      "cell_type": "markdown",
      "source": [
        "**Tuples** and **lists** **are both sequence data types in Python**, but they have some key differences. Here are the main differences between tuples and lists:\n",
        "\n",
        "**Mutability:** **Tuples are immutable**, meaning their elements cannot be modified once created, while **lists are mutable**, allowing modifications to their elements.\n",
        "\n",
        "**Syntax:** **Tuples** are defined using **parentheses ( )**, whereas **lists** are defined using **square brackets [ ]**.\n",
        "\n",
        "**Modification:** Since tuples are immutable, you cannot add, remove, or modify elements once a tuple is created. In contrast, lists allow you to add, remove, or modify elements freely.\n",
        "\n",
        "**Performance:** **Tuples are generally more efficient in terms of memory usage and performance compared to lists**. Since tuples are immutable, Python can optimize their storage and operations. Lists, being mutable, require additional memory and overhead to handle modifications.\n",
        "\n",
        "**Usage:** **Tuples are commonly used for collections of heterogeneous data**, where each element has a specific meaning or role. **Lists are more flexible and commonly used for collections of homogeneous data** or when the order and mutability of elements are important.\n",
        "\n",
        "**Return Values:** **Tuples are often used to return multiple values** from a function or to assign multiple variables in a single statement. Lists are not commonly used for this purpose.\n",
        "\n",
        "Here are some examples to illustrate the differences:"
      ],
      "metadata": {
        "id": "fgHNzyp7nLEr"
      }
    },
    {
      "cell_type": "code",
      "source": [
        "my_tuple = (1, 2, 3)\n",
        "my_list = [1, 2, 3]\n",
        "\n",
        "# Modifying elements\n",
        "# This will raise an error since tuples are immutable\n",
        "my_tuple[0] = 4\n",
        "\n",
        "# This is valid since lists are mutable\n",
        "my_list[0] = 4\n",
        "\n",
        "# Adding elements\n",
        "# This will raise an error since tuples are immutable\n",
        "my_tuple.append(4)\n",
        "\n",
        "# This is valid since lists are mutable\n",
        "my_list.append(4)\n",
        "\n",
        "# Creating new tuples or lists\n",
        "new_tuple = my_tuple + (5,)\n",
        "new_list = my_list + [5]\n",
        "\n",
        "# Tuple unpacking\n",
        "a, b, c = my_tuple\n",
        "\n",
        "# List unpacking\n",
        "x, y, z = my_list"
      ],
      "metadata": {
        "id": "4a2J-yOrHrLc",
        "colab": {
          "base_uri": "https://localhost:8080/",
          "height": 240
        },
        "outputId": "8bcde92f-ec39-4ab9-9790-1f5e890508bb"
      },
      "execution_count": null,
      "outputs": [
        {
          "output_type": "error",
          "ename": "TypeError",
          "evalue": "ignored",
          "traceback": [
            "\u001b[0;31m---------------------------------------------------------------------------\u001b[0m",
            "\u001b[0;31mTypeError\u001b[0m                                 Traceback (most recent call last)",
            "\u001b[0;32m<ipython-input-39-6757cb9759e1>\u001b[0m in \u001b[0;36m<cell line: 6>\u001b[0;34m()\u001b[0m\n\u001b[1;32m      4\u001b[0m \u001b[0;31m# Modifying elements\u001b[0m\u001b[0;34m\u001b[0m\u001b[0;34m\u001b[0m\u001b[0m\n\u001b[1;32m      5\u001b[0m \u001b[0;31m# This will raise an error since tuples are immutable\u001b[0m\u001b[0;34m\u001b[0m\u001b[0;34m\u001b[0m\u001b[0m\n\u001b[0;32m----> 6\u001b[0;31m \u001b[0mmy_tuple\u001b[0m\u001b[0;34m[\u001b[0m\u001b[0;36m0\u001b[0m\u001b[0;34m]\u001b[0m \u001b[0;34m=\u001b[0m \u001b[0;36m4\u001b[0m\u001b[0;34m\u001b[0m\u001b[0;34m\u001b[0m\u001b[0m\n\u001b[0m\u001b[1;32m      7\u001b[0m \u001b[0;34m\u001b[0m\u001b[0m\n\u001b[1;32m      8\u001b[0m \u001b[0;31m# This is valid since lists are mutable\u001b[0m\u001b[0;34m\u001b[0m\u001b[0;34m\u001b[0m\u001b[0m\n",
            "\u001b[0;31mTypeError\u001b[0m: 'tuple' object does not support item assignment"
          ]
        }
      ]
    },
    {
      "cell_type": "markdown",
      "source": [
        " **Tuples are immutable, have a different syntax, and are more efficient, while lists are mutable and offer greater flexibility for modification. The choice between tuples and lists depends on the specific use case and requirements of our program.**"
      ],
      "metadata": {
        "id": "T1Ay7PKOoWnR"
      }
    },
    {
      "cell_type": "markdown",
      "source": [
        "**Question 14**: How do you type a tuple value that only contains the integer 42?"
      ],
      "metadata": {
        "id": "WjvurcFCHrSO"
      }
    },
    {
      "cell_type": "markdown",
      "source": [
        "To create a tuple value that contains only the integer 42, you can use the following syntax:"
      ],
      "metadata": {
        "id": "v7w0x0B-oro4"
      }
    },
    {
      "cell_type": "code",
      "source": [
        "my_tuple = (42,)"
      ],
      "metadata": {
        "id": "GbrnlxC2HrSO"
      },
      "execution_count": null,
      "outputs": []
    },
    {
      "cell_type": "markdown",
      "source": [
        "Note the comma , at the end of the value. **The comma is necessary to distinguish a tuple from a regular parentheses-enclosed expression**. In this case, the comma indicates that the value inside the parentheses is a tuple with a single element.\n",
        "\n",
        "**Without the comma, Python would interpret the expression (42) as just an integer in parentheses, rather than a tuple**. **Adding the comma makes it clear that it should be treated as a tuple with a single element.**"
      ],
      "metadata": {
        "id": "inlTHiMwoxiq"
      }
    },
    {
      "cell_type": "markdown",
      "source": [
        "**Question 15**: How do you get a list value's tuple form? How do you get a tuple value's list form?"
      ],
      "metadata": {
        "id": "sjvsr0xvHrYp"
      }
    },
    {
      "cell_type": "markdown",
      "source": [
        "To get a list value's tuple form, you can use the **tuple() function**, which takes an iterable (such as a list) as an argument and returns a tuple containing the elements of the iterable.\n",
        "\n",
        "Here's an example:"
      ],
      "metadata": {
        "id": "jKEEHlHnpPJ0"
      }
    },
    {
      "cell_type": "code",
      "source": [
        "my_list = [1, 2, 3, 4, 5]\n",
        "my_tuple = tuple(my_list)\n",
        "print(my_tuple)  # Output: (1, 2, 3, 4, 5)"
      ],
      "metadata": {
        "id": "PkwdI9ejHrYp",
        "colab": {
          "base_uri": "https://localhost:8080/"
        },
        "outputId": "742fd948-451b-487b-9c99-ff7a673bebd9"
      },
      "execution_count": null,
      "outputs": [
        {
          "output_type": "stream",
          "name": "stdout",
          "text": [
            "(1, 2, 3, 4, 5)\n"
          ]
        }
      ]
    },
    {
      "cell_type": "markdown",
      "source": [
        "To get a **tuple value's list form**, you can use the list() function, which takes an iterable (such as a tuple) as an argument and returns a list containing the elements of the iterable.\n",
        "\n",
        "Here's an example:"
      ],
      "metadata": {
        "id": "oiU68ghnpZRg"
      }
    },
    {
      "cell_type": "code",
      "source": [
        "my_tuple = (1, 2, 3, 4, 5)\n",
        "my_list = list(my_tuple)\n",
        "print(my_list)  # Output: [1, 2, 3, 4, 5]"
      ],
      "metadata": {
        "colab": {
          "base_uri": "https://localhost:8080/"
        },
        "id": "4Q7ynBrmpefU",
        "outputId": "0c7ac0f3-6fe4-47ec-b757-fb51bec8a719"
      },
      "execution_count": null,
      "outputs": [
        {
          "output_type": "stream",
          "name": "stdout",
          "text": [
            "[1, 2, 3, 4, 5]\n"
          ]
        }
      ]
    },
    {
      "cell_type": "markdown",
      "source": [
        "**The tuple() function converts the elements of a list into a tuple, while the list() function converts the elements of a tuple into a list.**"
      ],
      "metadata": {
        "id": "9Q-EMtvZpj20"
      }
    },
    {
      "cell_type": "markdown",
      "source": [
        "**Question 16**: Variables that \"contain\" list values are not necessarily lists themselves. Instead, what do they contain?"
      ],
      "metadata": {
        "id": "T5t_0j99HrfL"
      }
    },
    {
      "cell_type": "markdown",
      "source": [
        "Variables that **\"contain\"** list values in Python actually **store references to the list objects**. In other words, the **variables hold memory addresses where the list objects are stored in the computer's memory**. \n",
        "\n",
        "**The variables themselves are not lists, but rather act as labels or identifiers for accessing and manipulating the underlying list objects.**\n",
        "\n",
        "When we **assign a list to a variable, the variable stores a reference to the memory location where the list object is stored**. Multiple variables can refer to the same list object, allowing you to access and modify the list through different variable names.\n",
        "\n",
        "For example:"
      ],
      "metadata": {
        "id": "Z8u8JIy9p7EU"
      }
    },
    {
      "cell_type": "code",
      "source": [
        "my_list = [1, 2, 3]\n",
        "another_list = my_list  # both variables refer to the same list object\n",
        "\n",
        "# Modifying the list through one variable\n",
        "my_list.append(4)\n",
        "print(another_list)  # Output: [1, 2, 3, 4]"
      ],
      "metadata": {
        "id": "QbWlQ4G1HrfM",
        "colab": {
          "base_uri": "https://localhost:8080/"
        },
        "outputId": "48ba238c-2a7f-4afb-adc3-ffcc3b8ae210"
      },
      "execution_count": null,
      "outputs": [
        {
          "output_type": "stream",
          "name": "stdout",
          "text": [
            "[1, 2, 3, 4]\n"
          ]
        }
      ]
    },
    {
      "cell_type": "markdown",
      "source": [
        "In this example, my_list and another_list both refer to the same list object. Modifying the list using one variable (my_list) is reflected in the other variable (another_list) because they point to the same underlying list object.\n",
        "\n",
        "**Therefore, variables that \"contain\" list values in Python store references to the list objects rather than the lists themselves.**"
      ],
      "metadata": {
        "id": "2XAMJgn2qXx0"
      }
    },
    {
      "cell_type": "markdown",
      "source": [
        "**Question 17**: How do you distinguish between copy.copy() and copy.deepcopy()?"
      ],
      "metadata": {
        "id": "2UpT4h9WHrmB"
      }
    },
    {
      "cell_type": "markdown",
      "source": [
        "The **copy.copy()** and **copy.deepcopy()** functions in the copy module of Python are used to create copies of objects, but they differ in how they handle object references and nested objects.\n",
        "\n",
        "**copy.copy()** **creates a shallow copy of an object**. It copies the object itself and creates a new object with the same contents as the original object. However, if the object contains references to other objects, it does not create copies of those referenced objects. Instead, it simply copies the references. As a result, both the **original object and the copied object will refer to the same underlying referenced objects.**\n",
        "\n",
        "On the other hand, **copy.deepcopy()** **creates a deep copy of an object**. It recursively copies the object and all the objects it refers to, including any nested objects. It creates entirely independent copies of all the objects, so **changes made to the copied object or its nested objects will not affect the original object or its nested objects.**\n",
        "\n",
        "Here's an example to illustrate the difference:"
      ],
      "metadata": {
        "id": "xC_cXZPAqvE4"
      }
    },
    {
      "cell_type": "code",
      "source": [
        "import copy\n",
        "\n",
        "original_list = [1, [2, 3], 4]\n",
        "shallow_copy = copy.copy(original_list)\n",
        "deep_copy = copy.deepcopy(original_list)\n",
        "\n",
        "# Modifying the nested list in the shallow copy\n",
        "shallow_copy[1][0] = 'modified'\n",
        "print(original_list)  # Output: [1, ['modified', 3], 4]\n",
        "\n",
        "# Modifying the nested list in the deep copy\n",
        "deep_copy[1][0] = 'modified'\n",
        "print(original_list)  # Output: [1, [2, 3], 4]"
      ],
      "metadata": {
        "id": "_nl0UCj0HrmB",
        "colab": {
          "base_uri": "https://localhost:8080/"
        },
        "outputId": "aadfa2c2-efac-4041-d98d-efb2bd9e692c"
      },
      "execution_count": null,
      "outputs": [
        {
          "output_type": "stream",
          "name": "stdout",
          "text": [
            "[1, ['modified', 3], 4]\n",
            "[1, ['modified', 3], 4]\n"
          ]
        }
      ]
    },
    {
      "cell_type": "markdown",
      "source": [
        "In this example, modifying the nested list in the shallow copy affects the original list because they share the same referenced objects. However, modifying the nested list in the deep copy does not affect the original list because they have independent copies of the nested objects.\n",
        "\n",
        "**copy.copy() creates a shallow copy that shares references to nested objects**\n",
        "\n",
        "**While copy.deepcopy() creates a deep copy with entirely independent copies of nested objects.**"
      ],
      "metadata": {
        "id": "GNQi9AnfrHiY"
      }
    }
  ]
}
