{
  "nbformat": 4,
  "nbformat_minor": 0,
  "metadata": {
    "colab": {
      "provenance": []
    },
    "kernelspec": {
      "name": "python3",
      "display_name": "Python 3"
    },
    "language_info": {
      "name": "python"
    }
  },
  "cells": [
    {
      "cell_type": "markdown",
      "source": [
        "# Assignment Topic: 07\n",
        "\n",
        "### Done By: Asit Piri"
      ],
      "metadata": {
        "id": "wDGlVKA53j4g"
      }
    },
    {
      "cell_type": "markdown",
      "source": [
        "**Question 1**: Create two int type variables, apply addition, subtraction, division and multiplications and store the results in variables. Then print the data in the following format by calling the variables:\n",
        "\n",
        "First variable is __ & second variable is __.\n",
        "\n",
        "Addition: __ + __ = __\n",
        "\n",
        "Subtraction: __ - __ = __\n",
        "\n",
        "Multiplication: __ * __ = __\n",
        "\n",
        "Division: __ / __ = __"
      ],
      "metadata": {
        "id": "tUqq_MrN3p9T"
      }
    },
    {
      "cell_type": "code",
      "source": [
        "# Create variables and perform arithmetic operations\n",
        "first_variable = 10\n",
        "second_variable = 5\n",
        "\n",
        "addition_result = first_variable + second_variable\n",
        "subtraction_result = first_variable - second_variable\n",
        "multiplication_result = first_variable * second_variable\n",
        "division_result = first_variable / second_variable\n",
        "\n",
        "# Print the results in the specified format\n",
        "print(\"First variable is\", first_variable, \"& second variable is\", second_variable)\n",
        "\n",
        "print(\"Addition:\", first_variable, \"+\", second_variable, \"=\", addition_result)\n",
        "print(\"Subtraction:\", first_variable, \"-\", second_variable, \"=\", subtraction_result)\n",
        "print(\"Multiplication:\", first_variable, \"*\", second_variable, \"=\", multiplication_result)\n",
        "print(\"Division:\", first_variable, \"/\", second_variable, \"=\", division_result)"
      ],
      "metadata": {
        "id": "WXkYx5Aj3-yL",
        "colab": {
          "base_uri": "https://localhost:8080/"
        },
        "outputId": "54d56d09-261a-4af0-a3f6-3af88bb9e8a7"
      },
      "execution_count": null,
      "outputs": [
        {
          "output_type": "stream",
          "name": "stdout",
          "text": [
            "First variable is 10 & second variable is 5\n",
            "Addition: 10 + 5 = 15\n",
            "Subtraction: 10 - 5 = 5\n",
            "Multiplication: 10 * 5 = 50\n",
            "Division: 10 / 5 = 2.0\n"
          ]
        }
      ]
    },
    {
      "cell_type": "markdown",
      "source": [
        "In the above example code that creates two int variables, performs addition, subtraction, multiplication, and division, and then prints the results in the specified format.\n",
        "\n",
        "In the code above, we create two int variables first_variable and second_variable and assign them the values 10 and 5, respectively. \n",
        "\n",
        "We then perform the arithmetic operations of addition, subtraction, multiplication, and division, storing the results in separate variables. \n",
        "\n",
        "Finally, we use the print function to display the values and results in the specified format."
      ],
      "metadata": {
        "id": "sXhqM-Z-ALJH"
      }
    },
    {
      "cell_type": "markdown",
      "source": [
        "**Question 2**: What is the difference between the following operators:\n",
        "\n",
        "(i) ‘/’ & ‘//’\n",
        "\n",
        "(ii) ‘**’ & ‘^’"
      ],
      "metadata": {
        "id": "UggGCJWv32Vd"
      }
    },
    {
      "cell_type": "markdown",
      "source": [
        "**(i) The operators '/' and '//' are both used for division in Python, but they have different behaviors.**\n",
        "\n",
        "The **'/' operator** performs regular division and returns a floating-point result. It calculates the quotient of the division, including decimal places if necessary.\n",
        "\n",
        "The **'//' operator** performs floor division and returns an integer result. It calculates the quotient of the division, discarding the decimal places and rounding down to the nearest integer.\n",
        "\n",
        "Here's an example to illustrate the difference:"
      ],
      "metadata": {
        "id": "8aAxW9QPApR7"
      }
    },
    {
      "cell_type": "code",
      "source": [
        "x = 10\n",
        "y = 3\n",
        "\n",
        "regular_division = x / y\n",
        "floor_division = x // y\n",
        "\n",
        "print(\"Regular division:\", regular_division)   # Output: 3.3333333333333335\n",
        "print(\"Floor division:\", floor_division)       # Output: 3"
      ],
      "metadata": {
        "colab": {
          "base_uri": "https://localhost:8080/"
        },
        "id": "6iih4rS2BQkd",
        "outputId": "691d5959-8828-4193-f3d8-8a9e41576126"
      },
      "execution_count": null,
      "outputs": [
        {
          "output_type": "stream",
          "name": "stdout",
          "text": [
            "Regular division: 3.3333333333333335\n",
            "Floor division: 3\n"
          ]
        }
      ]
    },
    {
      "cell_type": "markdown",
      "source": [
        "In the example, regular division (x / y) gives the result 3.3333333333333335, which is a float value. Floor division (x // y) gives the result 3, rounding down the quotient to the nearest integer.\n",
        "\n",
        "(ii) The operators '**' and '^' are used for exponentiation or raising a number to a power, but they have different meanings. **bold text**\n",
        "\n",
        "The '**' operator performs exponentiation. It raises the left operand to the power of the right operand.\n",
        "\n",
        "The '^' operator, on the other hand, is not used for exponentiation in Python. Instead, it is the bitwise XOR operator, which performs a bitwise exclusive OR operation on the operands.\n",
        "\n",
        "Here's an example to demonstrate the usage of the '**' operator:"
      ],
      "metadata": {
        "id": "1IrUwPVyBeog"
      }
    },
    {
      "cell_type": "code",
      "source": [
        "x = 2\n",
        "y = 3\n",
        "\n",
        "exponentiation = x ** y\n",
        "\n",
        "print(\"Exponentiation:\", exponentiation)   # Output: 8"
      ],
      "metadata": {
        "id": "IsgFzfqh35yq",
        "colab": {
          "base_uri": "https://localhost:8080/"
        },
        "outputId": "cb499e17-4499-4358-bdf4-49582a7d3ef3"
      },
      "execution_count": null,
      "outputs": [
        {
          "output_type": "stream",
          "name": "stdout",
          "text": [
            "Exponentiation: 8\n"
          ]
        }
      ]
    },
    {
      "cell_type": "markdown",
      "source": [
        "In the example, exponentiation (x ** y) raises 2 to the power of 3, resulting in the value 8.\n",
        "\n",
        "To summarize:\n",
        "\n",
        "'/' performs regular division and returns a float result.\n",
        "\n",
        "'//' performs floor division and returns an integer result.\n",
        "\n",
        "'**' performs exponentiation, raising a number to a power.\n",
        "\n",
        "'^' is the bitwise XOR operator, not used for exponentiation in Python."
      ],
      "metadata": {
        "id": "V_B5V5ofB4vb"
      }
    },
    {
      "cell_type": "markdown",
      "source": [
        "**Question 3**: List the logical operators."
      ],
      "metadata": {
        "id": "1ejvEmWp32dV"
      }
    },
    {
      "cell_type": "markdown",
      "source": [
        "The logical operators in Python are:\n",
        "\n",
        "**and:** The and operator returns True if both operands are True, otherwise it returns False. It performs a logical AND operation.\n",
        "\n",
        "**or:** The or operator returns True if at least one of the operands is True, otherwise it returns False. It performs a logical OR operation.\n",
        "\n",
        "**not:** The not operator is a unary operator that negates the value of its operand. It returns True if the operand is False, and False if the operand is True.\n",
        "\n",
        "**These operators are typically used to combine or modify boolean values and expressions. They are useful for creating conditional statements, controlling program flow, and making logical comparisons.**\n",
        "\n",
        "Here's an example to illustrate the usage of logical operators:"
      ],
      "metadata": {
        "id": "WtlNyft3CXEI"
      }
    },
    {
      "cell_type": "code",
      "source": [
        "x = 5\n",
        "y = 10\n",
        "z = 3\n",
        "\n",
        "# Logical AND\n",
        "print(x < y and y > z)   # Output: True\n",
        "\n",
        "# Logical OR\n",
        "print(x > y or y > z)    # Output: True\n",
        "\n",
        "# Logical NOT\n",
        "print(not (x == y))      # Output: True"
      ],
      "metadata": {
        "id": "_zlyXstv385X",
        "colab": {
          "base_uri": "https://localhost:8080/"
        },
        "outputId": "3073ad34-713d-4720-9256-32c8209d6a84"
      },
      "execution_count": null,
      "outputs": [
        {
          "output_type": "stream",
          "name": "stdout",
          "text": [
            "True\n",
            "True\n",
            "True\n"
          ]
        }
      ]
    },
    {
      "cell_type": "markdown",
      "source": [
        "In the example, the and operator checks \n",
        "\n",
        "- if both x < y and y > z are True, which is true in this case. \n",
        "\n",
        "- The or operator checks if at least one of x > y or y > z is True, which is also true. \n",
        "\n",
        "- The not operator negates the result of x == y, which is False, and returns True."
      ],
      "metadata": {
        "id": "dR08LAqkC_7Q"
      }
    },
    {
      "cell_type": "markdown",
      "source": [
        "**Question 4**: Explain right shift operator and left shift operator with examples."
      ],
      "metadata": {
        "id": "2YmJpW-H32hD"
      }
    },
    {
      "cell_type": "markdown",
      "source": [
        "**Question 5**: Create a list containing int type data of length 15. Then write a code to check if 10 is present in the list or not."
      ],
      "metadata": {
        "id": "RceIbI0J32k1"
      }
    },
    {
      "cell_type": "markdown",
      "source": [
        "The right shift operator (>>) and the left shift operator (<<) are bitwise shift operators in Python. They are used to shift the bits of a number to the right or left, respectively. These operators work on the binary representation of integers.\n",
        "\n",
        "**The right shift operator** (>>) shifts the bits of a number to the right by a specified number of positions. It effectively divides the number by 2 raised to the power of the specified shift value. The vacant bit positions on the left are filled with the sign bit (the most significant bit) for signed integers, or with zeros for unsigned integers.\n",
        "\n",
        "**The left shift operator** (<<) shifts the bits of a number to the left by a specified number of positions. It effectively multiplies the number by 2 raised to the power of the specified shift value. The vacant bit positions on the right are filled with zeros.\n",
        "\n",
        "Here are some examples to illustrate the usage of the right shift and left shift operators:"
      ],
      "metadata": {
        "id": "snGI1SF3Darp"
      }
    },
    {
      "cell_type": "code",
      "source": [
        "# Right shift\n",
        "x = 16\n",
        "shift_value = 2\n",
        "result = x >> shift_value\n",
        "print(result)  # Output: 4\n",
        "\n",
        "# Left shift\n",
        "x = 4\n",
        "shift_value = 3\n",
        "result = x << shift_value\n",
        "print(result)  # Output: 32"
      ],
      "metadata": {
        "id": "Q86CeiPI39_r",
        "colab": {
          "base_uri": "https://localhost:8080/"
        },
        "outputId": "badacb3f-80a5-4f04-d1ad-46a600a20b9d"
      },
      "execution_count": null,
      "outputs": [
        {
          "output_type": "stream",
          "name": "stdout",
          "text": [
            "4\n",
            "32\n"
          ]
        }
      ]
    },
    {
      "cell_type": "markdown",
      "source": [
        "In the first example, the value of x is 16, which is represented in binary as 10000. Shifting the bits to the right by 2 positions (x >> 2) results in 00001, which is equal to 4.\n",
        "\n",
        "In the second example, the value of x is 4, which is represented in binary as 00100. Shifting the bits to the left by 3 positions (x << 3) results in 100000, which is equal to 32.\n",
        "\n",
        "The right shift and left shift operators are commonly used in low-level programming, bitwise operations, and optimizing certain calculations involving powers of 2."
      ],
      "metadata": {
        "id": "J_ipMWqrD0SS"
      }
    }
  ]
}