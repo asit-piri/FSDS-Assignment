{
  "nbformat": 4,
  "nbformat_minor": 0,
  "metadata": {
    "colab": {
      "provenance": []
    },
    "kernelspec": {
      "name": "python3",
      "display_name": "Python 3"
    },
    "language_info": {
      "name": "python"
    }
  },
  "cells": [
    {
      "cell_type": "markdown",
      "source": [
        "# Assignment Topic: 05\n",
        "\n",
        "### Done By: Asit Piri"
      ],
      "metadata": {
        "id": "wDGlVKA53j4g"
      }
    },
    {
      "cell_type": "markdown",
      "source": [
        "**Question 1**: What does an empty dictionary's code look like?"
      ],
      "metadata": {
        "id": "tUqq_MrN3p9T"
      }
    },
    {
      "cell_type": "markdown",
      "source": [
        "An empty dictionary in Python is represented by a pair of curly braces with no key-value pairs inside. This empty dictionary can be assigned to a variable or used directly in Python code.\n",
        "\n",
        "Here is what it looks like:"
      ],
      "metadata": {
        "id": "KepuZ_Lqv_YM"
      }
    },
    {
      "cell_type": "code",
      "source": [
        "{}"
      ],
      "metadata": {
        "id": "WXkYx5Aj3-yL",
        "colab": {
          "base_uri": "https://localhost:8080/"
        },
        "outputId": "422de570-043f-48d2-cbd3-5fe33e373c3f"
      },
      "execution_count": null,
      "outputs": [
        {
          "output_type": "execute_result",
          "data": {
            "text/plain": [
              "{}"
            ]
          },
          "metadata": {},
          "execution_count": 1
        }
      ]
    },
    {
      "cell_type": "markdown",
      "source": [
        "**Question 2**: What is the value of a dictionary value with the key 'foo' and the value 42?"
      ],
      "metadata": {
        "id": "UggGCJWv32Vd"
      }
    },
    {
      "cell_type": "markdown",
      "source": [
        "The value of a dictionary with the key 'foo' and the value 42 would be simply 42. In other words, if we **access the value associated with the key 'foo' in the dictionary, it would give you the value 42.**"
      ],
      "metadata": {
        "id": "jV7-6s9Mwe5G"
      }
    },
    {
      "cell_type": "markdown",
      "source": [
        "**Question 3**: What is the most significant distinction between a dictionary and a list?"
      ],
      "metadata": {
        "id": "1ejvEmWp32dV"
      }
    },
    {
      "cell_type": "markdown",
      "source": [
        "The most **significant distinction between a dictionary and a list is the way they store and retrieve data**.\n",
        "\n",
        "In a **list, data is stored in a specific order and accessed using numerical indices**. Each element in a list is assigned an index **starting from 0**, allowing for positional access and iteration over the elements. **Lists are ordered and mutable**, meaning you can change, add, or remove elements within a list.\n",
        "\n",
        "On the other hand, **a dictionary stores data as key-value pairs. Instead of using numerical indices, dictionary elements are accessed using unique keys.** Each key is associated with a value, allowing for efficient retrieval of values based on their corresponding keys. **Dictionaries are unordered (prior to Python 3.7) and mutable.** They are commonly used when we **want to associate data with specific labels or identifiers**.\n",
        "\n",
        "**Lists are best suited for ordered collections of elements accessed by position, while dictionaries are ideal for mapping keys to corresponding values for efficient data retrieval based on the keys.**"
      ],
      "metadata": {
        "id": "jeNuiBdjw33i"
      }
    },
    {
      "cell_type": "markdown",
      "source": [
        "**Question 4**: What happens if you try to access spam['foo'] if spam is {'bar': 100}?"
      ],
      "metadata": {
        "id": "2YmJpW-H32hD"
      }
    },
    {
      "cell_type": "markdown",
      "source": [
        "If we try to access spam['foo'] where spam is assigned the value 'bar': 100, we will encounter a KeyError. The statement spam['foo'] attempts to access the value associated with the key 'foo' in the dictionary spam. However, since the key 'foo' does not exist in the dictionary, Python raises a KeyError to indicate that the key is not found.\n",
        "\n",
        "Here's an example of the error:"
      ],
      "metadata": {
        "id": "qTRB5s4UxsCB"
      }
    },
    {
      "cell_type": "code",
      "source": [
        "spam = {'bar': 100}\n",
        "print(spam['foo'])  # Raises KeyError: 'foo'"
      ],
      "metadata": {
        "colab": {
          "base_uri": "https://localhost:8080/",
          "height": 187
        },
        "id": "zX1D-FXPx8Aa",
        "outputId": "5c0ed05f-e946-4b96-f152-0aaf28409a0c"
      },
      "execution_count": null,
      "outputs": [
        {
          "output_type": "error",
          "ename": "KeyError",
          "evalue": "ignored",
          "traceback": [
            "\u001b[0;31m---------------------------------------------------------------------------\u001b[0m",
            "\u001b[0;31mKeyError\u001b[0m                                  Traceback (most recent call last)",
            "\u001b[0;32m<ipython-input-2-e3e47190e88b>\u001b[0m in \u001b[0;36m<cell line: 2>\u001b[0;34m()\u001b[0m\n\u001b[1;32m      1\u001b[0m \u001b[0mspam\u001b[0m \u001b[0;34m=\u001b[0m \u001b[0;34m{\u001b[0m\u001b[0;34m'bar'\u001b[0m\u001b[0;34m:\u001b[0m \u001b[0;36m100\u001b[0m\u001b[0;34m}\u001b[0m\u001b[0;34m\u001b[0m\u001b[0;34m\u001b[0m\u001b[0m\n\u001b[0;32m----> 2\u001b[0;31m \u001b[0mprint\u001b[0m\u001b[0;34m(\u001b[0m\u001b[0mspam\u001b[0m\u001b[0;34m[\u001b[0m\u001b[0;34m'foo'\u001b[0m\u001b[0;34m]\u001b[0m\u001b[0;34m)\u001b[0m  \u001b[0;31m# Raises KeyError: 'foo'\u001b[0m\u001b[0;34m\u001b[0m\u001b[0;34m\u001b[0m\u001b[0m\n\u001b[0m",
            "\u001b[0;31mKeyError\u001b[0m: 'foo'"
          ]
        }
      ]
    },
    {
      "cell_type": "markdown",
      "source": [
        "To avoid the error, we should ensure that we are accessing valid keys that exist in the dictionary. Alternatively, we can use the get() method of dictionaries, which allows us to provide a default value to return if the key is not found:"
      ],
      "metadata": {
        "id": "KmCuPbrGx9wY"
      }
    },
    {
      "cell_type": "code",
      "source": [
        "spam = {'bar': 100}\n",
        "print(spam.get('foo', 'Key not found'))  # Prints 'Key not found'"
      ],
      "metadata": {
        "id": "_zlyXstv385X",
        "colab": {
          "base_uri": "https://localhost:8080/"
        },
        "outputId": "d330ac94-a2fe-4d64-eb05-2f166edeeb5b"
      },
      "execution_count": null,
      "outputs": [
        {
          "output_type": "stream",
          "name": "stdout",
          "text": [
            "Key not found\n"
          ]
        }
      ]
    },
    {
      "cell_type": "markdown",
      "source": [
        "In the above example, since 'foo' is not a key in spam, the get() method returns the specified default value 'Key not found' instead of raising an error.**bold text**"
      ],
      "metadata": {
        "id": "ZA2uDgL3yQdZ"
      }
    },
    {
      "cell_type": "markdown",
      "source": [
        "**Question 5**: If a dictionary is stored in spam, what is the difference between the expressions 'cat' in spam and 'cat' in spam.keys()?"
      ],
      "metadata": {
        "id": "RceIbI0J32k1"
      }
    },
    {
      "cell_type": "markdown",
      "source": [
        "The expressions 'cat' in spam and 'cat' in spam.keys() check for the presence of the key 'cat' in the dictionary spam, but they have slightly different behaviors:\n",
        "\n",
        "**'cat' in spam:** This expression checks if the key 'cat' exists in the dictionary spam. **It returns a boolean value True if the key is present, indicating that 'cat' is a valid key in spam. If the key is not found, it returns False.**\n",
        "\n",
        "**'cat' in spam.keys():** This expression also checks if the key 'cat' exists in the dictionary spam, but it **specifically checks against the keys of the dictionary by calling the keys() method of the dictionary. It returns a boolean value True if the key is present in the keys of spam. If the key is not found, it returns False.**\n",
        "\n",
        "**The difference between the two expressions lies in the behavior when the key is not present in the dictionary:**\n",
        "\n",
        "If 'cat' is not a key in spam, both expressions will evaluate to False.\n",
        "However, the first expression 'cat' in spam directly checks the keys of the dictionary, so it may be slightly more efficient than the second expression, which explicitly retrieves the keys using spam.keys() before performing the check.\n",
        "\n",
        "**In most cases, using 'cat' in spam is sufficient and preferred unless we specifically need to work with the keys of the dictionary.**"
      ],
      "metadata": {
        "id": "XWorDcHzy9EV"
      }
    },
    {
      "cell_type": "markdown",
      "source": [
        "**Question 6**: If a dictionary is stored in spam, what is the difference between the expressions 'cat' in spam and 'cat' in spam.values()?"
      ],
      "metadata": {
        "id": "50tPH05f33WZ"
      }
    },
    {
      "cell_type": "markdown",
      "source": [
        "The expressions 'cat' in spam and 'cat' in spam.values() have different meanings and behaviors:\n",
        "\n",
        "**'cat' in spam:** This expression checks if the string 'cat' exists as a key in the dictionary spam. **It returns a boolean value True if the key is present, indicating that 'cat' is a valid key in spam. If the key is not found, it returns False.**\n",
        "\n",
        "**'cat' in spam.values():** This expression checks **if the string 'cat' exists as a value in the dictionary spam. It searches through all the values in the dictionary and returns a boolean value True if the value is found. If the value is not found, it returns False.**\n",
        "\n",
        "In summary:\n",
        "\n",
        "1. 'cat' in spam checks if 'cat' is a key in the dictionary spam.\n",
        "\n",
        "2. 'cat' in spam.values() checks if 'cat' is a value in the dictionary spam.\n",
        "The distinction is important because dictionaries consist of key-value pairs, and checking for existence in the keys or values provides different information. Depending on the specific use case, you would choose the appropriate expression to check for the presence of either a key or a value in the dictionary."
      ],
      "metadata": {
        "id": "eH6rinLEzs5M"
      }
    },
    {
      "cell_type": "markdown",
      "source": [
        "**Question 7**: What is a shortcut for the following code?\n",
        "\n",
        "if 'color' not in spam:\n",
        "\n",
        "spam['color'] = 'black'"
      ],
      "metadata": {
        "id": "X6MoHwJ333g0"
      }
    },
    {
      "cell_type": "markdown",
      "source": [
        "A shortcut for the given code is to use the dict.setdefault() method. The setdefault() method allows you to set a default value for a key if the key is not already present in the dictionary. The shortcut would be as follows:"
      ],
      "metadata": {
        "id": "iGQqub-90QHq"
      }
    },
    {
      "cell_type": "code",
      "source": [
        "spam.setdefault('color', 'black')"
      ],
      "metadata": {
        "colab": {
          "base_uri": "https://localhost:8080/",
          "height": 35
        },
        "id": "rp7-8cOc0RPM",
        "outputId": "7be752fa-414a-4cdf-8517-52870536fbf3"
      },
      "execution_count": null,
      "outputs": [
        {
          "output_type": "execute_result",
          "data": {
            "text/plain": [
              "'black'"
            ],
            "application/vnd.google.colaboratory.intrinsic+json": {
              "type": "string"
            }
          },
          "metadata": {},
          "execution_count": 4
        }
      ]
    },
    {
      "cell_type": "markdown",
      "source": [
        "This code **checks if the key 'color' exists in the dictionary spam**. If the key is not present, it sets the key to 'black' with the specified default value. If the key already exists, it does nothing and keeps the existing value.\n",
        "\n",
        "Using **setdefault() provides a concise way to achieve the same functionality as the if statement you provided**."
      ],
      "metadata": {
        "id": "Ehl0yFEa0YJa"
      }
    },
    {
      "cell_type": "markdown",
      "source": [
        "**Question 8**: How do you \"pretty print\" dictionary values using which module and function?"
      ],
      "metadata": {
        "id": "BSVwpkTk33oh"
      }
    },
    {
      "cell_type": "markdown",
      "source": [
        "To \"pretty print\" dictionary values in Python, we can use the pprint module and its pprint() function. Here's an example of how to use it:"
      ],
      "metadata": {
        "id": "Ipw1_rBQ0rOL"
      }
    },
    {
      "cell_type": "code",
      "source": [
        "import pprint\n",
        "\n",
        "my_dict = {'name': 'John', 'age': 30, 'city': 'New York'}\n",
        "\n",
        "pprint.pprint(my_dict)"
      ],
      "metadata": {
        "colab": {
          "base_uri": "https://localhost:8080/"
        },
        "id": "wKfZOOrl0tZr",
        "outputId": "e5e0e9fb-55a2-4a10-b360-96395612ae3b"
      },
      "execution_count": null,
      "outputs": [
        {
          "output_type": "stream",
          "name": "stdout",
          "text": [
            "{'age': 30, 'city': 'New York', 'name': 'John'}\n"
          ]
        }
      ]
    },
    {
      "cell_type": "markdown",
      "source": [
        "The pprint() function from the pprint module formats the dictionary output in a more readable and organized way. It displays the dictionary with each key-value pair on a separate line and indents nested structures for improved readability.\n",
        "\n",
        "**By using pprint.pprint(), we can print dictionaries and other complex data structures in a more visually appealing and easy-to-read format.**"
      ],
      "metadata": {
        "id": "lxToou2I08S-"
      }
    }
  ]
}
