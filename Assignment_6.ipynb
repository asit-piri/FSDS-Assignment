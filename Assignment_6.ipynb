{
  "nbformat": 4,
  "nbformat_minor": 0,
  "metadata": {
    "colab": {
      "provenance": []
    },
    "kernelspec": {
      "name": "python3",
      "display_name": "Python 3"
    },
    "language_info": {
      "name": "python"
    }
  },
  "cells": [
    {
      "cell_type": "markdown",
      "source": [
        "# Assignment Topic: 06\n",
        "\n",
        "### Done By: Asit Piri"
      ],
      "metadata": {
        "id": "wDGlVKA53j4g"
      }
    },
    {
      "cell_type": "markdown",
      "source": [
        "**Question 1**: What are keywords in python? Using the keyword library, print all the python keywords."
      ],
      "metadata": {
        "id": "tUqq_MrN3p9T"
      }
    },
    {
      "cell_type": "markdown",
      "source": [
        "Keywords in Python are reserved words that have special meanings and purposes. These words are part of the Python language and cannot be used as identifiers (variable names, function names, etc.) by the programmer.\n",
        "\n",
        "To print all the Python keywords, you can use the keyword module in Python. Here's an example:\n",
        "\n",
        "Keywords: ['False', 'None', 'True', 'and', 'as', 'assert', 'async', 'await', 'break', 'class', 'continue', 'def', 'del', 'elif', 'else', 'except', 'finally', 'for', 'from', 'global', 'if', 'import', 'in', 'is', 'lambda', 'nonlocal', 'not', 'or', 'pass', 'raise', 'return', 'try', 'while', 'with', 'yield']\n",
        "\n",
        "**These keywords have predefined meanings and serve specific purposes in the Python language.**"
      ],
      "metadata": {
        "id": "1EJsq5sN101q"
      }
    },
    {
      "cell_type": "code",
      "source": [
        "import keyword\n",
        "\n",
        "print(keyword.kwlist) # This will print a list of all the keywords in Python, including:"
      ],
      "metadata": {
        "colab": {
          "base_uri": "https://localhost:8080/"
        },
        "id": "ua8MEDr412JT",
        "outputId": "390edeb4-4c80-4c51-d847-ad179fe15bec"
      },
      "execution_count": null,
      "outputs": [
        {
          "output_type": "stream",
          "name": "stdout",
          "text": [
            "['False', 'None', 'True', 'and', 'as', 'assert', 'async', 'await', 'break', 'class', 'continue', 'def', 'del', 'elif', 'else', 'except', 'finally', 'for', 'from', 'global', 'if', 'import', 'in', 'is', 'lambda', 'nonlocal', 'not', 'or', 'pass', 'raise', 'return', 'try', 'while', 'with', 'yield']\n"
          ]
        }
      ]
    },
    {
      "cell_type": "markdown",
      "source": [
        "**Question 2**: What are the rules to create variables in python?"
      ],
      "metadata": {
        "id": "UggGCJWv32Vd"
      }
    },
    {
      "cell_type": "markdown",
      "source": [
        "In Python, the rules to create variables are as follows:\n",
        "\n",
        "**Variable Names:**\n",
        "\n",
        "1. Variable names can contain letters (a-z, A-Z), digits (0-9), and underscores (_).\n",
        "\n",
        "2. Variable names must start with a letter or an underscore. They cannot start with a digit.\n",
        "\n",
        "3. Variable names are case-sensitive, so myVar and myvar are considered different variables.\n",
        "\n",
        "4. Variable names should be descriptive and meaningful to enhance code readability.\n",
        "\n",
        "**Reserved Keywords:**\n",
        "\n",
        "1. You cannot use Python keywords as variable names. Keywords have special meanings in the language.\n",
        "\n",
        "2. To see the list of keywords, you can use the keyword module as mentioned earlier.\n",
        "\n",
        "**Assignment:**\n",
        "\n",
        "1. Variables are created and assigned values using the assignment operator =.\n",
        "For example, x = 10 creates a variable named x and assigns it the value 10.\n",
        "\n",
        "**Data Types:**\n",
        "\n",
        "1. Python variables are dynamically typed, meaning you do not need to explicitly specify the data type.\n",
        "\n",
        "2. The data type of a variable is determined by the value assigned to it.\n",
        "Variables can hold different types of values such as numbers, strings, lists, dictionaries, etc.\n",
        "\n",
        "**Naming Conventions:**\n",
        "\n",
        "1. Python follows the convention of using lowercase letters and underscores for variable names (e.g., my_variable).\n",
        "\n",
        "2. Although uppercase letters are allowed, it is common practice to use them for class names (e.g., MyClass).\n",
        "\n",
        "**It is important to follow these rules and conventions to write clean and readable code.**"
      ],
      "metadata": {
        "id": "QADvKs-b2wvi"
      }
    },
    {
      "cell_type": "markdown",
      "source": [
        "**Question 3**: What are the standards and conventions followed for the nomenclature of variables in python to improve code readability and maintainability?"
      ],
      "metadata": {
        "id": "1ejvEmWp32dV"
      }
    },
    {
      "cell_type": "markdown",
      "source": [
        "In Python, there are certain standards and conventions followed for variable naming to improve code readability and maintainability. These conventions are commonly known as **PEP 8**, which is the official style guide for Python code. Here are some key guidelines:\n",
        "\n",
        "**Naming Style:**\n",
        "\n",
        "1. Use lowercase letters for variable names.\n",
        "\n",
        "2. Separate words with underscores to improve readability. This is known as **snake_case**. (Examples: my_variable, total_count)\n",
        "\n",
        "**Meaningful and Descriptive Names:**\n",
        "\n",
        "1. Choose variable names that convey their purpose or meaning in the context of your code.\n",
        "\n",
        "2. Avoid using single-letter or generic names like x, tmp, or data.\n",
        "\n",
        "3. Use descriptive names that indicate the purpose or content of the variable.\n",
        "(Examples: customer_name, product_count, is_valid)\n",
        "\n",
        "**Avoid Reserved Keywords:**\n",
        "\n",
        "1. Do not use Python keywords as variable names since they have special meanings in the language.\n",
        "\n",
        "2. Examples of keywords: if, for, while, def, class, etc.\n",
        "\n",
        "**Consistency:**\n",
        "\n",
        "1. Maintain consistent naming conventions throughout your codebase.\n",
        "\n",
        "2. If you have multiple-word variable names, use the same style and formatting across all similar variables. (Example: If we use customer_id for one variable, don't use customerID or customerId for another variable).\n",
        "\n",
        "**Constants:**\n",
        "\n",
        "1. If a variable is intended to be a constant (a value that does not change), use uppercase letters and underscores. (Example: MAX_VALUE, DEFAULT_TIMEOUT)\n",
        "\n",
        "**By following these naming conventions, we can able to write code that is more readable, maintainable, and in line with community standards. It is important to note that adherence to conventions is not mandatory but highly recommended to enhance code quality and collaboration.**"
      ],
      "metadata": {
        "id": "eZ3TEP7k3zms"
      }
    },
    {
      "cell_type": "markdown",
      "source": [
        "**Question 4**: What will happen if a keyword is used as a variable name?"
      ],
      "metadata": {
        "id": "2YmJpW-H32hD"
      }
    },
    {
      "cell_type": "markdown",
      "source": [
        "If a keyword is used as a variable name in Python, it will **result in a syntax error**. Python reserves keywords for specific purposes in the language, and they cannot be used as identifiers (variable names, function names, etc.).\n",
        "\n",
        "When a keyword is used as a variable name, Python will raise a SyntaxError indicating that the keyword is not allowed as an identifier. This error is raised at the point where the keyword is encountered in the code.\n",
        "\n",
        "To avoid such errors, it is important to choose variable names that are not keywords and adhere to the naming conventions and guidelines mentioned earlier.\n",
        "\n",
        "For example, if we try to use the keyword if as a variable name:"
      ],
      "metadata": {
        "id": "7tG-5EW55uQF"
      }
    },
    {
      "cell_type": "code",
      "source": [
        "if = 10"
      ],
      "metadata": {
        "colab": {
          "base_uri": "https://localhost:8080/",
          "height": 133
        },
        "id": "7SzaMm1Y5yXO",
        "outputId": "5756da6f-bb9d-4540-d0ce-b7c6fca9ae06"
      },
      "execution_count": null,
      "outputs": [
        {
          "output_type": "error",
          "ename": "SyntaxError",
          "evalue": "ignored",
          "traceback": [
            "\u001b[0;36m  File \u001b[0;32m\"<ipython-input-2-563084b3e606>\"\u001b[0;36m, line \u001b[0;32m1\u001b[0m\n\u001b[0;31m    if = 10\u001b[0m\n\u001b[0m       ^\u001b[0m\n\u001b[0;31mSyntaxError\u001b[0m\u001b[0;31m:\u001b[0m invalid syntax\n"
          ]
        }
      ]
    },
    {
      "cell_type": "markdown",
      "source": [
        "**Question 5**: For what purpose def keyword is used?"
      ],
      "metadata": {
        "id": "RceIbI0J32k1"
      }
    },
    {
      "cell_type": "markdown",
      "source": [
        "The def keyword in Python is used to define a function. It is followed by the function name and a set of parentheses that may contain parameters. The function definition is then followed by a colon and an indented block of code that makes up the function body.\n",
        "\n",
        "Here's the general syntax for defining a function using the def keyword:"
      ],
      "metadata": {
        "id": "t7zIutJw6Qyt"
      }
    },
    {
      "cell_type": "code",
      "source": [
        "#def function_name(parameters):\n",
        "    # Function body\n",
        "    # Code statements\n",
        "    # ...\n",
        "\n",
        "#Here's an example of a simple function definition that calculates the square of a number:\n",
        "\n",
        "def square(num):\n",
        "    return num * num\n",
        "\n",
        "square(5)"
      ],
      "metadata": {
        "id": "Q86CeiPI39_r",
        "colab": {
          "base_uri": "https://localhost:8080/"
        },
        "outputId": "b991938f-9845-4325-a5c4-645d03cea276"
      },
      "execution_count": null,
      "outputs": [
        {
          "output_type": "execute_result",
          "data": {
            "text/plain": [
              "25"
            ]
          },
          "metadata": {},
          "execution_count": 6
        }
      ]
    },
    {
      "cell_type": "markdown",
      "source": [
        "The def keyword is used to introduce the function definition and inform Python that you are defining a new function. It is a fundamental part of Python's syntax for defining reusable blocks of code that can be called and executed later in the program.\n",
        "\n",
        "Once a function is defined using the def keyword, you can later call the function by its name and pass arguments to it, allowing you to execute the code inside the function and perform the desired operations.\n",
        "\n",
        "In this example, the def keyword is used to define the function square. It takes a single parameter num and returns the square of that number."
      ],
      "metadata": {
        "id": "UJ3DHPz26vYr"
      }
    },
    {
      "cell_type": "markdown",
      "source": [
        "**Question 6**: What is the operation of this special character ‘\\’?"
      ],
      "metadata": {
        "id": "50tPH05f33WZ"
      }
    },
    {
      "cell_type": "markdown",
      "source": [
        "The special character '' in Python is known as the backslash or escape character. It is used to represent certain special characters and sequences in strings. When the backslash is followed by a specific character or sequence, it creates an escape sequence that has a special meaning. Here are some common uses of the backslash in Python:\n",
        "\n",
        "**Escape Characters:** The backslash is used to escape characters that have special meanings in Python strings. For example, if you want to include a single quote or a double quote within a string, you can use the backslash to escape them:"
      ],
      "metadata": {
        "id": "w0vAExLZ7R9u"
      }
    },
    {
      "cell_type": "code",
      "source": [
        "message = 'He said, \"I\\'m coming!\"'\n",
        "print(message)"
      ],
      "metadata": {
        "colab": {
          "base_uri": "https://localhost:8080/"
        },
        "id": "32QzR-_P7UbZ",
        "outputId": "9805be22-2c25-46a7-c3f1-69399fd31d8a"
      },
      "execution_count": null,
      "outputs": [
        {
          "output_type": "stream",
          "name": "stdout",
          "text": [
            "He said, \"I'm coming!\"\n"
          ]
        }
      ]
    },
    {
      "cell_type": "markdown",
      "source": [
        "In this example, the backslash before the single quote escapes it, allowing it to be included within the string.\n",
        "\n",
        "**Newlines and Line Continuation:** The backslash is used to create a newline character or to continue a long line of code onto the next line. For example:"
      ],
      "metadata": {
        "id": "srCgW6fQ7bf3"
      }
    },
    {
      "cell_type": "code",
      "source": [
        "message = 'This is a very long string that \\\n",
        "           spans multiple lines.'\n",
        "print(message)"
      ],
      "metadata": {
        "colab": {
          "base_uri": "https://localhost:8080/"
        },
        "id": "sy8J5tX87giP",
        "outputId": "0e0fb2ea-42a9-409f-a42a-0986c92bcff3"
      },
      "execution_count": null,
      "outputs": [
        {
          "output_type": "stream",
          "name": "stdout",
          "text": [
            "This is a very long string that            spans multiple lines.\n"
          ]
        }
      ]
    },
    {
      "cell_type": "markdown",
      "source": [
        "In this example, the backslash at the end of the first line indicates that the string continues on the next line.\n",
        "\n",
        "**Special Characters:** The backslash is used to represent special characters such as tabs ('\\t'), carriage returns ('\\r'), and line feeds ('\\n'). These escape sequences are used to insert these special characters into strings."
      ],
      "metadata": {
        "id": "ta1IM-bp7qUn"
      }
    },
    {
      "cell_type": "code",
      "source": [
        "message = 'Hello\\tWorld\\n'\n",
        "print(message)"
      ],
      "metadata": {
        "id": "RWauEGTv4Jnx",
        "colab": {
          "base_uri": "https://localhost:8080/"
        },
        "outputId": "701806de-a2d6-4bdf-d8e2-fe03f837f5b4"
      },
      "execution_count": null,
      "outputs": [
        {
          "output_type": "stream",
          "name": "stdout",
          "text": [
            "Hello\tWorld\n",
            "\n"
          ]
        }
      ]
    },
    {
      "cell_type": "markdown",
      "source": [
        "In this example, the '\\t' represents a tab character and '\\n' represents a newline character.\n",
        "\n",
        "**Unicode and Hexadecimal Characters: **The backslash can be used to represent Unicode characters and hexadecimal characters using the '\\u' and '\\x' escape sequences, respectively."
      ],
      "metadata": {
        "id": "kk6AxM5N7y-y"
      }
    },
    {
      "cell_type": "code",
      "source": [
        "message = 'This is a Unicode character: \\u03B1'\n",
        "print(message)"
      ],
      "metadata": {
        "colab": {
          "base_uri": "https://localhost:8080/"
        },
        "id": "hR7M21j-73rj",
        "outputId": "f989ed74-a066-46c2-dbb7-c498101c78e4"
      },
      "execution_count": null,
      "outputs": [
        {
          "output_type": "stream",
          "name": "stdout",
          "text": [
            "This is a Unicode character: α\n"
          ]
        }
      ]
    },
    {
      "cell_type": "markdown",
      "source": [
        "In this example, the '\\u03B1' represents the Greek letter alpha (α) in Unicode.\n",
        "\n",
        "These are some of the common uses of the backslash in Python. It allows you to include special characters, create escape sequences, and represent various types of characters within strings."
      ],
      "metadata": {
        "id": "bYdcT0w079ss"
      }
    },
    {
      "cell_type": "markdown",
      "source": [
        "**Question 7**: Give an example of the following conditions:\n",
        "\n",
        "(i) Homogeneous list\n",
        "\n",
        "(ii) Heterogeneous set\n",
        "\n",
        "(iii) Homogeneous tuple"
      ],
      "metadata": {
        "id": "X6MoHwJ333g0"
      }
    },
    {
      "cell_type": "markdown",
      "source": [
        "**(i) Homogeneous list:**\n",
        "A homogeneous list is a list that contains elements of the same type. Here's an example of a homogeneous list of integers:"
      ],
      "metadata": {
        "id": "7DKAjb_f8exf"
      }
    },
    {
      "cell_type": "code",
      "source": [
        "numbers = [1, 2, 3, 4, 5]\n",
        "print(numbers)"
      ],
      "metadata": {
        "id": "9BbPqdWE4OzT",
        "colab": {
          "base_uri": "https://localhost:8080/"
        },
        "outputId": "bfc5ec30-4aa2-4261-8fb9-c7c1ceb5480b"
      },
      "execution_count": null,
      "outputs": [
        {
          "output_type": "stream",
          "name": "stdout",
          "text": [
            "[1, 2, 3, 4, 5]\n"
          ]
        }
      ]
    },
    {
      "cell_type": "markdown",
      "source": [
        "In this example, the list numbers contains only integer values, making it a homogeneous list.\n",
        "\n",
        "**(ii) Heterogeneous set:**\n",
        "A heterogeneous set is a set that contains elements of different types. Here's an example of a heterogeneous set:"
      ],
      "metadata": {
        "id": "_y84PG1V8rm3"
      }
    },
    {
      "cell_type": "code",
      "source": [
        "items = {1, 'apple', 3.14, True}\n",
        "print(items)"
      ],
      "metadata": {
        "colab": {
          "base_uri": "https://localhost:8080/"
        },
        "id": "2fIiMgl_8wMF",
        "outputId": "75ed4fd1-a740-4cdf-e907-c9db54195343"
      },
      "execution_count": null,
      "outputs": [
        {
          "output_type": "stream",
          "name": "stdout",
          "text": [
            "{1, 3.14, 'apple'}\n"
          ]
        }
      ]
    },
    {
      "cell_type": "markdown",
      "source": [
        "In this example, the set items contains elements of different types, including an integer, a string, a float, and a boolean value.\n",
        "\n",
        "**(iii) Homogeneous tuple:**\n",
        "A homogeneous tuple is a tuple that contains elements of the same type. Here's an example of a homogeneous tuple of strings:"
      ],
      "metadata": {
        "id": "wF2tYIO_84d6"
      }
    },
    {
      "cell_type": "code",
      "source": [
        "names = ('Alice', 'Bob', 'Charlie', 'Dave')\n",
        "print(names)"
      ],
      "metadata": {
        "colab": {
          "base_uri": "https://localhost:8080/"
        },
        "id": "bXikqGFW89t3",
        "outputId": "79f5ee8c-dc5a-4558-bdd1-e0b90be7f023"
      },
      "execution_count": null,
      "outputs": [
        {
          "output_type": "stream",
          "name": "stdout",
          "text": [
            "('Alice', 'Bob', 'Charlie', 'Dave')\n"
          ]
        }
      ]
    },
    {
      "cell_type": "markdown",
      "source": [
        "**In this example, the tuple names contains only string values, making it a homogeneous tuple.**"
      ],
      "metadata": {
        "id": "x_S8wBy59D02"
      }
    },
    {
      "cell_type": "markdown",
      "source": [
        "**Question 8**: Explain the mutable and immutable data types with proper explanation & examples."
      ],
      "metadata": {
        "id": "BSVwpkTk33oh"
      }
    },
    {
      "cell_type": "markdown",
      "source": [
        "In Python, **data types** can be classified as either **mutable** or **immutable**. This classification refers to whether the object's value can be changed after it is created. Let's take a closer look at the concepts of mutable and immutable data types:\n",
        "\n",
        "**Mutable Data Types:**\n",
        "\n",
        "Mutable data types are those that can be modified after they are created. This means that you can change their value, add or remove elements, or modify their internal state. Examples of mutable data types in Python include lists, dictionaries, and sets.\n",
        "\n",
        "Example of a mutable data type (list):"
      ],
      "metadata": {
        "id": "1oR-8bxZ9ag6"
      }
    },
    {
      "cell_type": "code",
      "source": [
        "my_list = [1, 2, 3]\n",
        "my_list.append(4)\n",
        "print(my_list)  # Output: [1, 2, 3, 4]"
      ],
      "metadata": {
        "id": "o5oVessz4SSW",
        "colab": {
          "base_uri": "https://localhost:8080/"
        },
        "outputId": "591b30c0-0ae6-4684-c4bb-49bf86b10c3d"
      },
      "execution_count": null,
      "outputs": [
        {
          "output_type": "stream",
          "name": "stdout",
          "text": [
            "[1, 2, 3, 4]\n"
          ]
        }
      ]
    },
    {
      "cell_type": "markdown",
      "source": [
        "In the example above, the list my_list is mutable. We can modify it by appending an element to it using the append() method. The original list is changed as a result.\n",
        "\n",
        "**Immutable Data Types:**\n",
        "\n",
        "Immutable data types, on the other hand, are those whose value cannot be changed after they are created. Once an immutable object is created, any attempt to modify its value will result in creating a new object with the updated value. **Examples of immutable data types in Python include integers, floats, strings, and tuples.**\n",
        "\n",
        "Example of an immutable data type (string):"
      ],
      "metadata": {
        "id": "GFU3wqlV9q69"
      }
    },
    {
      "cell_type": "code",
      "source": [
        "my_string = \"Hello\"\n",
        "my_string += \" World\"\n",
        "print(my_string)  # Output: Hello World"
      ],
      "metadata": {
        "colab": {
          "base_uri": "https://localhost:8080/"
        },
        "id": "IlTPVMt491kl",
        "outputId": "673deb06-6c46-4500-acdc-4c53d4d405a0"
      },
      "execution_count": null,
      "outputs": [
        {
          "output_type": "stream",
          "name": "stdout",
          "text": [
            "Hello World\n"
          ]
        }
      ]
    },
    {
      "cell_type": "markdown",
      "source": [
        "In the example above, the string my_string is immutable. Even though we used the += operator to concatenate a new string, the original string is not modified. Instead, a new string object is created with the concatenated value.\n",
        "\n",
        "**Immutable data types have the advantage of being safer in certain scenarios,as their values cannot be accidentally modified. They are also suitable for use as dictionary keys or in hash-based data structures.**\n",
        "\n",
        "It's important to note that **variables in Python are actually references to objects, so the mutability or immutability refers to the object itself, not the variable that references it.** In other words, an immutable variable can be reassigned to a new object, but the original object remains unchanged."
      ],
      "metadata": {
        "id": "utdNWImX955M"
      }
    },
    {
      "cell_type": "markdown",
      "source": [
        "**Question 9**: Write a code to create the given structure using only for loop.\n",
        "\n",
        "`*`\n",
        "\n",
        "`***`\n",
        "\n",
        "`*****`\n",
        "\n",
        "`*******`\n",
        "\n",
        "`*********`"
      ],
      "metadata": {
        "id": "w5o-2Awgt7m0"
      }
    },
    {
      "cell_type": "code",
      "source": [
        "num_rows = 5\n",
        "\n",
        "for i in range(num_rows):\n",
        "    for j in range(i+1):\n",
        "        print(\"*\", end=\"\")\n",
        "    print()"
      ],
      "metadata": {
        "id": "CK6_d0RJt7nC",
        "colab": {
          "base_uri": "https://localhost:8080/"
        },
        "outputId": "96db52a3-ef39-4904-c228-46aea4682885"
      },
      "execution_count": null,
      "outputs": [
        {
          "output_type": "stream",
          "name": "stdout",
          "text": [
            "*\n",
            "**\n",
            "***\n",
            "****\n",
            "*****\n"
          ]
        }
      ]
    },
    {
      "cell_type": "markdown",
      "source": [
        "In the code above, we use two nested for loops. \n",
        "\n",
        "**1. The outer loop iterates over the range of num_rows, which determines the number of rows in the structure**. \n",
        "\n",
        "**2. The inner loop iterates over the range of i+1, where i represents the current row number. This inner loop prints the required number of asterisks in each row. We use the end=\"\" parameter in the print statement to avoid printing a new line after each asterisk.**\n",
        "\n",
        "Note that the number of asterisks in each row increases by one for each row, starting from one asterisk in the first row (i = 0) up to num_rows asterisks in the last row."
      ],
      "metadata": {
        "id": "n8oDy07F-fuN"
      }
    },
    {
      "cell_type": "markdown",
      "source": [
        "**Question 10**: Write a code to create the given structure using while loop.\n",
        "\n",
        "`|||||||||`\n",
        "\n",
        "`|||||||`\n",
        "\n",
        "`|||||`\n",
        "\n",
        "`|||`\n",
        "\n",
        "`|`"
      ],
      "metadata": {
        "id": "qMxI34AKt7wJ"
      }
    },
    {
      "cell_type": "code",
      "source": [
        "num_rows = 5\n",
        "row_length = num_rows * 2 - 1\n",
        "\n",
        "while num_rows > 0:\n",
        "    print(\"|\" * row_length)\n",
        "    num_rows -= 1\n",
        "    row_length -= 2"
      ],
      "metadata": {
        "id": "fkSIWe2Et7wK",
        "colab": {
          "base_uri": "https://localhost:8080/"
        },
        "outputId": "579aa606-b5cb-444b-de60-094061f86239"
      },
      "execution_count": null,
      "outputs": [
        {
          "output_type": "stream",
          "name": "stdout",
          "text": [
            "|||||||||\n",
            "|||||||\n",
            "|||||\n",
            "|||\n",
            "|\n"
          ]
        }
      ]
    },
    {
      "cell_type": "markdown",
      "source": [
        "In the code above, we initialize the variables num_rows and row_length to represent the number of rows and the length of each row, respectively. \n",
        "\n",
        "We use a while loop to iterate while num_rows is greater than 0. In each iteration, we print the vertical bars (|) multiplied by row_length to create each row. \n",
        "\n",
        "After printing a row, we decrement num_rows by 1 and decrease row_length by 2 to ensure the structure tapers towards the top. The loop continues until num_rows becomes 0."
      ],
      "metadata": {
        "id": "KieJxv-g_DkH"
      }
    }
  ]
}