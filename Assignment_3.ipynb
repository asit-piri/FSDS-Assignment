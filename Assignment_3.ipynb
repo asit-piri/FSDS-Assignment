{
  "nbformat": 4,
  "nbformat_minor": 0,
  "metadata": {
    "colab": {
      "provenance": []
    },
    "kernelspec": {
      "name": "python3",
      "display_name": "Python 3"
    },
    "language_info": {
      "name": "python"
    }
  },
  "cells": [
    {
      "cell_type": "markdown",
      "source": [
        "# Assignment Topic: 03\n",
        "\n",
        "### Done By: Asit Piri"
      ],
      "metadata": {
        "id": "wDGlVKA53j4g"
      }
    },
    {
      "cell_type": "markdown",
      "source": [
        "**Question 1**: Why are functions advantageous to have in your programs?"
      ],
      "metadata": {
        "id": "tUqq_MrN3p9T"
      }
    },
    {
      "cell_type": "markdown",
      "source": [
        "Functions are advantageous to have in programs for several reasons:\n",
        "\n",
        "**Reusability:** Functions allow us to encapsulate a specific set of instructions that can be reused multiple times within a program or across different programs. Instead of writing the same code over and over again, we can define a function and call it whenever needed. This promotes code reusability, reduces redundancy, and makes the code more modular and maintainable.\n",
        "\n",
        "**Modularity: ** Functions promote modularity by breaking down complex problems into smaller, manageable tasks. Each function can handle a specific functionality or perform a specific operation, making the code easier to understand, test, and maintain. Modular code is also more flexible and allows for easier code organization and collaboration among developers.\n",
        "\n",
        "**Abstraction: ** Functions provide an abstraction layer that allows us to use complex operations or algorithms without needing to understand their internal implementation details. We can simply call a function with the appropriate inputs and rely on its defined behavior to achieve the desired result. This abstraction simplifies the overall code structure and makes it easier to work with complex systems.\n",
        "\n",
        "**Readability:** Functions improve code readability by giving meaningful names to blocks of code that perform specific tasks. Well-named functions act as self-documenting units of code, making it easier for other developers (including ourselves) to understand the purpose and functionality of different parts of the program. By encapsulating logic within functions, we can focus on the high-level flow of the program rather than getting lost in implementation details.\n",
        "\n",
        "**Code organization and maintenance:** Functions help in organizing code into logical units, making it easier to navigate and maintain. By breaking down a program into smaller functions, each responsible for a specific task, we can isolate and fix issues more easily. Additionally, when modifications or improvements are required, changes can be made within a specific function without affecting the entire program, reducing the chances of introducing bugs.\n",
        "\n",
        "**Testing and Debugging:** Functions facilitate testing and debugging processes. With well-defined functions, we can write targeted tests for individual functions, ensuring their correctness and handling different scenarios. Functions also help in isolating bugs or issues to specific parts of the program, making it easier to debug and fix problems.\n",
        "\n",
        "Functions improve code **reusability, modularity, abstraction, readability, code organization, and ease of testing and maintenance**. \n",
        "\n",
        "**Functions are a fundamental building block of structured programming and play a crucial role in developing scalable, maintainable, and efficient software systems.**"
      ],
      "metadata": {
        "id": "-Uda9o6UOMC6"
      }
    },
    {
      "cell_type": "markdown",
      "source": [
        "**Question 2**: When does the code in a function run: when it's specified or when it's called?"
      ],
      "metadata": {
        "id": "UggGCJWv32Vd"
      }
    },
    {
      "cell_type": "markdown",
      "source": [
        "The code in a function runs **when the function is called**.\n",
        "\n",
        "Functions serve as reusable blocks of code that encapsulate a specific set of instructions. The code inside a function is not executed immediately when the function is defined or specified. Instead, **it is executed when the function is invoked or called during the program's execution**.\n",
        "\n",
        "When a function is called, **the program jumps to the function's definition and starts executing the code inside the function block**. It follows the flow of instructions within the function, performs any computations or operations defined inside the function, and then returns to the point of the program where the function was called.\n",
        "\n",
        "In other words, the code inside a function runs in response to a function call, allowing the program to perform a specific task or execute a particular set of instructions at the desired point in the program's execution. **Functions provide control over when and how certain code is executed, enabling modular and reusable code structures.**"
      ],
      "metadata": {
        "id": "mTOU_6akPsxj"
      }
    },
    {
      "cell_type": "markdown",
      "source": [
        "**Question 3**: What is the difference between a function and a function call?"
      ],
      "metadata": {
        "id": "1ejvEmWp32dV"
      }
    },
    {
      "cell_type": "markdown",
      "source": [
        "A function and a function call are two related but distinct concepts in programming.\n",
        "\n",
        "**Function: ** A function is a named block of code that performs a specific task or set of operations. It encapsulates a series of instructions that can be executed multiple times at different points in a program. Functions are defined using a specific syntax, including a name, optional parameters, and a block of code that defines the function's behavior.\n",
        "\n",
        "**Function Call:** A function call, also known as **invoking or executing a function**, is the act of using a function within a program. It instructs the program to execute the code inside the function and potentially return a value or perform an action. To call a function, you use the function's name followed by parentheses, optionally passing arguments (values) to the function if it expects any.\n",
        "\n",
        "**A function is a defined block of code with a specific name and behavior, while a function call is the act of executing or invoking the function in a program.** \n",
        "\n",
        "**The function call triggers the execution of the code inside the function and allows us to utilize the functionality provided by the function.**"
      ],
      "metadata": {
        "id": "_qUe86fqQXwU"
      }
    },
    {
      "cell_type": "markdown",
      "source": [
        "**Question 4**: What is the difference between a function and a function call?"
      ],
      "metadata": {
        "id": "2YmJpW-H32hD"
      }
    },
    {
      "cell_type": "markdown",
      "source": [
        "A function and a function call are two related but distinct concepts in programming.\n",
        "\n",
        "**Function:** A function is a named block of code that performs a specific task or set of operations. It encapsulates a series of instructions that can be executed multiple times at different points in a program. Functions are defined using a specific syntax, including a name, optional parameters, and a block of code that defines the function's behavior.\n",
        "\n",
        "**Function Call:** A function call, also known as invoking or executing a function, is the act of using a function within a program. It instructs the program to execute the code inside the function and potentially return a value or perform an action. To call a function, you use the function's name followed by parentheses, optionally passing arguments (values) to the function if it expects any.\n",
        "\n",
        "**A function is a defined block of code with a specific name and behavior, while a function call is the act of executing or invoking the function in a program.**\n",
        "\n",
        "**The function call triggers the execution of the code inside the function and allows us to utilize the functionality provided by the function.**"
      ],
      "metadata": {
        "id": "Efgljrs8RBaS"
      }
    },
    {
      "cell_type": "markdown",
      "source": [
        "**Question 5**:  How many global scopes are there in a Python program? How many local scopes?"
      ],
      "metadata": {
        "id": "RceIbI0J32k1"
      }
    },
    {
      "cell_type": "markdown",
      "source": [
        "In a Python program, there can be multiple **global scopes** and **multiple local scopes**.\n",
        "\n",
        "**Global Scope:** The global scope refers to the **top-level scope of a Python program, outside of any function or class**. It is the highest level of scope and is accessible throughout the entire program. **Variables defined in the global scope are accessible from any part of the program, including within functions and classes.**\n",
        "\n",
        "**Local Scope:** Local scopes are **created whenever a function or a class is defined.** Each function or class has its own local scope, which is separate from the global scope. **Variables defined within a function or a class are local to that function or class and can only be accessed within its scope or any nested scopes.**\n",
        "\n",
        "Therefore, **the number of global scopes in a Python program depends on how many variables are defined in the global scope throughout the program.** The number of local scopes depends on the **number of functions or classes defined, as each function or class has its own local scope.**"
      ],
      "metadata": {
        "id": "98kUvUTbRrvT"
      }
    },
    {
      "cell_type": "markdown",
      "source": [
        "**Question 6**: What happens to variables in a local scope when the function call returns?"
      ],
      "metadata": {
        "id": "50tPH05f33WZ"
      }
    },
    {
      "cell_type": "markdown",
      "source": [
        "When a function call returns in Python, **the local variables defined within that function's scope cease to exist. They are deallocated, and their values are no longer accessible. This process is known as variable cleanup or variable destruction.**\n",
        "\n",
        "Here's what happens to variables in a local scope when a function call returns:\n",
        "\n",
        "**Deallocation:** The memory allocated for the local variables in the function's scope is freed. This means that the memory used to store the variables' values is released and can be used for other purposes.\n",
        "\n",
        "**Inaccessibility:** Once the function call returns, the local variables are no longer accessible or usable in the program. Any attempts to access those variables outside the function's scope will result in a NameError.\n",
        "\n",
        "**Garbage Collection:** If there are any objects referenced by the local variables and there are no other references to those objects, they become eligible for garbage collection. **The Python garbage collector automatically detects and frees up the memory occupied by these unreferenced objects.**\n",
        "\n",
        "It's important to note that any changes made to the values of local variables within a function's scope will not persist once the function call returns. If we need to preserve the modified values or share them with the calling code, we can return them explicitly from the function or store them in global variables or data structures."
      ],
      "metadata": {
        "id": "K8o6ZZzISfEF"
      }
    },
    {
      "cell_type": "markdown",
      "source": [
        "**Question 7**:  What is the concept of a return value? Is it possible to have a return value in an expression?"
      ],
      "metadata": {
        "id": "X6MoHwJ333g0"
      }
    },
    {
      "cell_type": "markdown",
      "source": [
        "The concept of a return value in programming refers to the value that a function provides back to the code that called it. When a function is executed, it may perform some operations and computations and then optionally return a result to the caller. The return value allows the function to communicate information or data back to the calling code.\n",
        "\n",
        "A return value can be any valid data type in Python, such as integers, floats, strings, booleans, lists, dictionaries, or even custom objects. It can be a single value or a collection of values (e.g., returned as a tuple or a list).\n",
        "\n",
        "Yes, it is possible to have a return value in an expression. In Python, you can assign the return value of a function to a variable or use it directly in an expression. For example:"
      ],
      "metadata": {
        "id": "lpXHR9KvVWhO"
      }
    },
    {
      "cell_type": "code",
      "source": [
        "def add_numbers(a, b):\n",
        "    return a + b\n",
        "\n",
        "result = add_numbers(3, 4)  # Assign the return value to a variable\n",
        "print(result)  # Output: 7\n",
        "\n",
        "total = add_numbers(2, 5) + 10  # Use the return value in an expression\n",
        "print(total)  # expression Output: 17"
      ],
      "metadata": {
        "id": "9BbPqdWE4OzT",
        "colab": {
          "base_uri": "https://localhost:8080/"
        },
        "outputId": "f731abbd-9be7-469e-a71a-a617d4f57840"
      },
      "execution_count": null,
      "outputs": [
        {
          "output_type": "stream",
          "name": "stdout",
          "text": [
            "7\n",
            "17\n"
          ]
        }
      ]
    },
    {
      "cell_type": "markdown",
      "source": [
        "In the above example, the function **add_numbers returns the sum of its two arguments a and b**. The return value is then assigned to the variable result and also used in the expression add_numbers(2, 5) + 10."
      ],
      "metadata": {
        "id": "jonZMVlnVnjz"
      }
    },
    {
      "cell_type": "markdown",
      "source": [
        "**Question 8**: If a function does not have a return statement, what is the return value of a call to that function?"
      ],
      "metadata": {
        "id": "BSVwpkTk33oh"
      }
    },
    {
      "cell_type": "markdown",
      "source": [
        "If a function does not have a return statement, or if the return statement is omitted, the function will still return a value. However, the return value in this case will be None.\n",
        "\n",
        "None is a special value in Python that represents the absence of a value. It is commonly used to indicate that a function or method does not explicitly return any value.\n",
        "\n",
        "Here's an example to illustrate this:"
      ],
      "metadata": {
        "id": "D8Ncud0hWogb"
      }
    },
    {
      "cell_type": "code",
      "source": [
        "def do_something():\n",
        "    # No return statement\n",
        "    result = do_something()\n",
        "    print(result)  # Output: None"
      ],
      "metadata": {
        "id": "o5oVessz4SSW"
      },
      "execution_count": null,
      "outputs": []
    },
    {
      "cell_type": "markdown",
      "source": [
        "In the above example, the function **do_something** does not have a return statement. When the function is called and executed, it completes without returning any specific value. As a result, **the return value of the function is None.**\n"
      ],
      "metadata": {
        "id": "2LywqN7TXEEs"
      }
    },
    {
      "cell_type": "markdown",
      "source": [
        "**Question 9**: How do you make a function variable refer to the global variable?"
      ],
      "metadata": {
        "id": "hGfcK6y_33zk"
      }
    },
    {
      "cell_type": "markdown",
      "source": [
        "In Python, if we want to make a function variable refer to a global variable, we can use the **global keyword inside the function**. This allows us to indicate that a variable is a global variable rather than creating a new local variable with the same name.\n",
        "\n",
        "Here's an example to demonstrate how to make a function variable refer to a global variable:"
      ],
      "metadata": {
        "id": "dDp64Dc9XjTO"
      }
    },
    {
      "cell_type": "code",
      "source": [
        "x = 10  # Global variable\n",
        "\n",
        "def modify_global_variable():\n",
        "    global x  # Declare x as a global variable\n",
        "    x = 20   # Modify the value of the global variable\n",
        "\n",
        "print(x)  # Output: 10\n",
        "modify_global_variable()\n",
        "print(x)  # Output: 20"
      ],
      "metadata": {
        "id": "Zcx04gRk4Tk2",
        "colab": {
          "base_uri": "https://localhost:8080/"
        },
        "outputId": "6fd72120-8054-4350-98d1-5b47635d8a30"
      },
      "execution_count": null,
      "outputs": [
        {
          "output_type": "stream",
          "name": "stdout",
          "text": [
            "10\n",
            "20\n"
          ]
        }
      ]
    },
    {
      "cell_type": "markdown",
      "source": [
        "In the above example, we have a global variable x with an initial value of 10. Inside the function modify_global_variable(), we use the **global keyword** to declare that we want to refer to the global variable x. Then, we assign a new value of 20 to x. When we print the value of x after calling the function, it reflects the modified value of 20.\n",
        "\n",
        "**By using the global keyword, you can access and modify global variables within a function. However, it's generally recommended to avoid excessive use of global variables and instead pass values as arguments to functions and return values as results.**"
      ],
      "metadata": {
        "id": "f5y0wqZJX0HW"
      }
    },
    {
      "cell_type": "markdown",
      "source": [
        "**Question 10**: What is the data type of None?"
      ],
      "metadata": {
        "id": "LJZFkP6u34FQ"
      }
    },
    {
      "cell_type": "markdown",
      "source": [
        "In Python, None is a special constant that represents the **absence of a value or the lack of a value**. It is often used to indicate that **a variable or expression doesn't have a meaningful value or is undefined.**\n",
        "\n",
        "**None is considered to be a unique object of the NoneType class.** It serves as a placeholder to represent the absence of a value in situations where you need to explicitly indicate the absence of a value, such as when returning no value from a function or initializing a variable without a specific value.\n",
        "\n",
        "Here's an example:"
      ],
      "metadata": {
        "id": "RvtOGm6pYi7I"
      }
    },
    {
      "cell_type": "code",
      "source": [
        "x = None\n",
        "print(type(x))  # Output: <class 'NoneType'>"
      ],
      "metadata": {
        "id": "2jO1tc3130ed",
        "colab": {
          "base_uri": "https://localhost:8080/"
        },
        "outputId": "326d57ad-fa31-42b5-fb0e-6cb8475e9e4e"
      },
      "execution_count": null,
      "outputs": [
        {
          "output_type": "stream",
          "name": "stdout",
          "text": [
            "<class 'NoneType'>\n"
          ]
        }
      ]
    },
    {
      "cell_type": "markdown",
      "source": [
        "In the above example, we assign the value None to the variable x and then use the type() function to determine its data type, which is NoneType.\n",
        "\n",
        "It's important to note that None is not the same as an empty string (''), an empty list ([]), or a zero value (0). It is a distinct value representing the absence of a value."
      ],
      "metadata": {
        "id": "lC4u_qF1Y07a"
      }
    },
    {
      "cell_type": "markdown",
      "source": [
        "**Question 11**: What does the sentence import areallyourpetsnamederic do?"
      ],
      "metadata": {
        "id": "y-3M6yQBFjv8"
      }
    },
    {
      "cell_type": "markdown",
      "source": [
        "The sentence \"import areallyourpetsnamederic\" does not have any specific meaning or functionality in Python. It is not a valid import statement and does not refer to any existing module or library in the Python standard library or third-party packages.\n",
        "\n",
        "In Python, the import statement is used to import modules, which are files containing Python code that define functions, classes, and variables that can be reused in other parts of a program. When importing a module, you typically provide the name of the module, not a sentence or arbitrary string.\n",
        "\n",
        "**So, the sentence \"import areallyourpetsnamederic\" would result in a SyntaxError because it does not follow the valid syntax for import statements in Python.**"
      ],
      "metadata": {
        "id": "npu42JsrZAq8"
      }
    },
    {
      "cell_type": "code",
      "source": [
        "import areallyourpetsnamederic"
      ],
      "metadata": {
        "colab": {
          "base_uri": "https://localhost:8080/",
          "height": 312
        },
        "id": "vMyu41HUZr_V",
        "outputId": "7ad7e4a2-203f-4ecd-97f4-6cbd0c7a61cf"
      },
      "execution_count": null,
      "outputs": [
        {
          "output_type": "error",
          "ename": "ModuleNotFoundError",
          "evalue": "ignored",
          "traceback": [
            "\u001b[0;31m---------------------------------------------------------------------------\u001b[0m",
            "\u001b[0;31mModuleNotFoundError\u001b[0m                       Traceback (most recent call last)",
            "\u001b[0;32m<ipython-input-10-b1ea9cb2228f>\u001b[0m in \u001b[0;36m<cell line: 1>\u001b[0;34m()\u001b[0m\n\u001b[0;32m----> 1\u001b[0;31m \u001b[0;32mimport\u001b[0m \u001b[0mareallyourpetsnamederic\u001b[0m\u001b[0;34m\u001b[0m\u001b[0;34m\u001b[0m\u001b[0m\n\u001b[0m",
            "\u001b[0;31mModuleNotFoundError\u001b[0m: No module named 'areallyourpetsnamederic'",
            "",
            "\u001b[0;31m---------------------------------------------------------------------------\u001b[0;32m\nNOTE: If your import is failing due to a missing package, you can\nmanually install dependencies using either !pip or !apt.\n\nTo view examples of installing some common dependencies, click the\n\"Open Examples\" button below.\n\u001b[0;31m---------------------------------------------------------------------------\u001b[0m\n"
          ],
          "errorDetails": {
            "actions": [
              {
                "action": "open_url",
                "actionText": "Open Examples",
                "url": "/notebooks/snippets/importing_libraries.ipynb"
              }
            ]
          }
        }
      ]
    },
    {
      "cell_type": "markdown",
      "source": [
        "**Question 12**: If you had a bacon() feature in a spam module, what would you call it after importing spam?\n"
      ],
      "metadata": {
        "id": "cAjJ2rrTFj6Z"
      }
    },
    {
      "cell_type": "markdown",
      "source": [
        "After importing the \"spam\" module, if it contains a feature called bacon(), we can call it using the syntax spam.bacon(). The module name (spam) serves as a namespace, and we access the bacon() function within that namespace using dot notation."
      ],
      "metadata": {
        "id": "05J7K_WZZb2Q"
      }
    },
    {
      "cell_type": "markdown",
      "source": [
        "**Question 13**: What can you do to save a programme from crashing if it encounters an error?"
      ],
      "metadata": {
        "id": "uDqexhM4FkC8"
      }
    },
    {
      "cell_type": "markdown",
      "source": [
        "To save a program from crashing if it encounters an error, you can implement error handling mechanisms such as exception handling. In Python, you can use try-except blocks to catch and handle exceptions that may occur during program execution.\n",
        "\n",
        "By wrapping the potentially problematic code within a try block, you can monitor for any raised exceptions. If an exception occurs, instead of the program crashing, it will jump to the appropriate except block where you can handle the exception gracefully. This allows you to take appropriate actions, display helpful error messages, log the error, or perform any necessary cleanup operations.\n",
        "\n",
        "Here's an example of using a try-except block in Python:\n",
        "\n",
        "try:\n",
        "    # Code that may raise an exception\n",
        "    # ...\n",
        "except ExceptionType:\n",
        "    # Exception handling code\n",
        "    # ...\n",
        "\n",
        "By handling exceptions effectively, you can prevent program crashes and ensure that your program continues to execute gracefully even in the presence of errors."
      ],
      "metadata": {
        "id": "pjC0T_NTaUMW"
      }
    },
    {
      "cell_type": "markdown",
      "source": [
        "**Question 14**: What is the purpose of the try clause? What is the purpose of the except clause?"
      ],
      "metadata": {
        "id": "yis-jf6UFkHy"
      }
    },
    {
      "cell_type": "markdown",
      "source": [
        "The purpose of the **try clause is to enclose a block of code that might raise an exception**. It defines a section of code where you anticipate the occurrence of exceptions. The try clause is followed by one or more except clauses.\n",
        "\n",
        "The purpose of the **except clause is to specify how to handle a specific type of exception that may occur within the try block**. If an exception of the specified type is raised, the corresponding except block is executed, allowing us to handle the exception gracefully.\n",
        "\n",
        "In other words, the try clause sets up the code that is potentially prone to exceptions, and the except clause defines the actions to be taken if a specific exception is raised within the try block. By using try-except blocks, you can catch and handle exceptions, preventing them from causing your program to terminate abruptly."
      ],
      "metadata": {
        "id": "czEDH2xVatWs"
      }
    }
  ]
}