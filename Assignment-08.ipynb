{
  "nbformat": 4,
  "nbformat_minor": 0,
  "metadata": {
    "colab": {
      "provenance": []
    },
    "kernelspec": {
      "name": "python3",
      "display_name": "Python 3"
    },
    "language_info": {
      "name": "python"
    }
  },
  "cells": [
    {
      "cell_type": "markdown",
      "source": [
        "# Assignment Topic: 08\n",
        "\n",
        "### Done By: Asit Piri"
      ],
      "metadata": {
        "id": "SIIoatx40wre"
      }
    },
    {
      "cell_type": "markdown",
      "source": [
        "**Questiion 1:** In Python, what is the difference between a built-in function and a user-defined function? Provide an\n",
        "example of each."
      ],
      "metadata": {
        "id": "cqY0htZT1aah"
      }
    },
    {
      "cell_type": "markdown",
      "source": [
        "In Python, the main difference between a built-in function and a user-defined function lies in their origin and availability.\n",
        "\n",
        "**Built-in Functions:**\n",
        "Built-in functions are functions that are provided by the Python language itself. They are readily available for use without requiring any additional code or import statements. These functions are implemented in C and are an integral part of the Python interpreter.\n",
        "\n",
        "**Example of a built-in function:**"
      ],
      "metadata": {
        "id": "qVEBx0FvIc1u"
      }
    },
    {
      "cell_type": "code",
      "source": [
        "# Using the built-in function len()\n",
        "string = \"Hello, world!\"\n",
        "length = len(string)\n",
        "print(length)"
      ],
      "metadata": {
        "id": "SZ13smCe3153",
        "colab": {
          "base_uri": "https://localhost:8080/"
        },
        "outputId": "7414c625-3b50-47db-a219-3f8ac3713207"
      },
      "execution_count": null,
      "outputs": [
        {
          "output_type": "stream",
          "name": "stdout",
          "text": [
            "13\n"
          ]
        }
      ]
    },
    {
      "cell_type": "markdown",
      "source": [
        "**User-defined Functions:** User-defined functions are created by the users themselves to perform specific tasks. These functions are defined using the def keyword, followed by the function name, parameters, and the code block that constitutes the function's body. User-defined functions provide modularity and reusability in code.\n",
        "\n",
        "**Example of a user-defined function:**"
      ],
      "metadata": {
        "id": "KF4GxHe7IyzG"
      }
    },
    {
      "cell_type": "code",
      "source": [
        "# Defining a user-defined function\n",
        "def greet(name):\n",
        "    print(\"Hello, \" + name + \"!\")\n",
        "\n",
        "# Calling the user-defined function\n",
        "greet(\"Alice\")  # Output: Hello, Alice!"
      ],
      "metadata": {
        "colab": {
          "base_uri": "https://localhost:8080/"
        },
        "id": "J_dbT50fI_Fm",
        "outputId": "8a0a1a54-7a54-4408-e516-630f69b51bba"
      },
      "execution_count": null,
      "outputs": [
        {
          "output_type": "stream",
          "name": "stdout",
          "text": [
            "Hello, Alice!\n"
          ]
        }
      ]
    },
    {
      "cell_type": "markdown",
      "source": [
        "In the above example, greet is a user-defined function that takes a parameter name and prints a greeting message. It can be called multiple times with different arguments.\n",
        "\n",
        "The main difference between a built-in function and a user-defined function in Python is that **built-in functions are provided by the Python language itself and are readily available, while user-defined functions are created by the users to perform specific tasks and offer modularity and reusability in code**."
      ],
      "metadata": {
        "id": "KqNJXWSSJHbo"
      }
    },
    {
      "cell_type": "markdown",
      "source": [
        "**Question 2:** How can you pass arguments to a function in Python? Explain the difference between positional arguments and keyword arguments."
      ],
      "metadata": {
        "id": "kTmwzwdh1aiD"
      }
    },
    {
      "cell_type": "markdown",
      "source": [
        "In Python, arguments can be passed to a function in different ways. The two commonly used methods are positional arguments and key word arguments.\n",
        "\n",
        "**Positional Arguments:**\n",
        "Positional arguments are passed to a function based on their position or order. The values of the arguments are matched with the function parameters in the same order. This is the default way of passing arguments in Python.\n",
        "\n",
        "**Example of Positional Arguments:**"
      ],
      "metadata": {
        "id": "IDI53Y4nJ7mR"
      }
    },
    {
      "cell_type": "code",
      "source": [
        "# Function definition with positional arguments\n",
        "def add_numbers(a, b):\n",
        "    sum = a + b\n",
        "    print(\"Sum:\", sum)\n",
        "\n",
        "# Calling the function with positional arguments\n",
        "add_numbers(5, 3)"
      ],
      "metadata": {
        "id": "hCD6R6Kn34L5",
        "colab": {
          "base_uri": "https://localhost:8080/"
        },
        "outputId": "ab247dea-dd01-4737-f586-87d258ba0318"
      },
      "execution_count": null,
      "outputs": [
        {
          "output_type": "stream",
          "name": "stdout",
          "text": [
            "Sum: 8\n"
          ]
        }
      ]
    },
    {
      "cell_type": "markdown",
      "source": [
        "In the above example, the function add_numbers takes two positional arguments a and b. When the function is called with add_numbers(5, 3), the value 5 is assigned to a and 3 is assigned to b.\n",
        "\n",
        "**Keyword Arguments:**\n",
        "Keyword arguments are passed to a function using the name of the parameter along with the corresponding value. This allows us to pass arguments to a function in any order, irrespective of their position. Keyword arguments are useful when a function has multiple parameters and you want to specify the values explicitly.\n",
        "\n",
        "**Example of Keyword Arguments:**"
      ],
      "metadata": {
        "id": "f3-M7zXcKcYr"
      }
    },
    {
      "cell_type": "code",
      "source": [
        "# Function definition with keyword arguments\n",
        "def greet_person(name, age):\n",
        "    print(\"Name:\", name)\n",
        "    print(\"Age:\", age)\n",
        "\n",
        "# Calling the function with keyword arguments\n",
        "greet_person(name=\"Alice\", age=25)"
      ],
      "metadata": {
        "colab": {
          "base_uri": "https://localhost:8080/"
        },
        "id": "frJw7bfYKo6g",
        "outputId": "28c34e6a-286b-4051-e125-ea4dd5afc5f1"
      },
      "execution_count": null,
      "outputs": [
        {
          "output_type": "stream",
          "name": "stdout",
          "text": [
            "Name: Alice\n",
            "Age: 25\n"
          ]
        }
      ]
    },
    {
      "cell_type": "markdown",
      "source": [
        "In the above example, the function greet_person takes two keyword arguments name and age. When the function is called with greet_person(name=\"Alice\", age=25), the values are assigned based on the corresponding parameter names.\n",
        "\n",
        "Keyword arguments allow flexibility in the order of arguments and also make the code more readable and self-explanatory.\n",
        "\n",
        "It's important to note that positional arguments and keyword arguments can be used together in function calls. However, when mixing them, all the positional arguments must be placed before the keyword arguments.\n",
        "\n",
        "**Example of Mixed Arguments:**"
      ],
      "metadata": {
        "id": "RIEWn2OjK6V3"
      }
    },
    {
      "cell_type": "code",
      "source": [
        "def my_function(a, b, c):\n",
        "  print(a)\n",
        "  print(b)\n",
        "  print(c)\n",
        "  # Function code\n",
        "\n",
        "# Mixing positional and keyword arguments\n",
        "my_function(1, b=2, c=3)"
      ],
      "metadata": {
        "colab": {
          "base_uri": "https://localhost:8080/"
        },
        "id": "OHUym7CHLFu2",
        "outputId": "2db87832-aaec-4256-a442-680b1859f40c"
      },
      "execution_count": null,
      "outputs": [
        {
          "output_type": "stream",
          "name": "stdout",
          "text": [
            "1\n",
            "2\n",
            "3\n"
          ]
        }
      ]
    },
    {
      "cell_type": "markdown",
      "source": [
        "In the above example, **a is a positional argument**, and **b and c are keyword arguments**."
      ],
      "metadata": {
        "id": "Cd2KJ8h9MF8o"
      }
    },
    {
      "cell_type": "markdown",
      "source": [
        "**Question 3:** What is the purpose of the return statement in a function? Can a function have multiple return statements? Explain with an example."
      ],
      "metadata": {
        "id": "YL1FLle91aoS"
      }
    },
    {
      "cell_type": "markdown",
      "source": [
        "The return statement in a function is used to specify the value that should be returned by the function when it is called. It allows a function to compute a result or perform some operations and then provide that result back to the caller.\n",
        "\n",
        "The return statement serves the following purposes:\n",
        "\n",
        "1. It terminates the execution of the function and returns control back to the caller.\n",
        "\n",
        "2. It provides the value that will be the result of the function call.\n",
        "\n",
        "A function can have multiple return statements. When a return statement is encountered, the function immediately exits and returns the specified value. It is common to have conditional statements or loops in a function where different values are returned based on certain conditions.\n",
        "\n",
        "Here's an example to illustrate the use of multiple return statements in a function:"
      ],
      "metadata": {
        "id": "buAMsR0BMXSz"
      }
    },
    {
      "cell_type": "code",
      "source": [
        "def get_grade(score):\n",
        "    if score >= 90:\n",
        "        return \"A\"\n",
        "    elif score >= 80:\n",
        "        return \"B\"\n",
        "    elif score >= 70:\n",
        "        return \"C\"\n",
        "    elif score >= 60:\n",
        "        return \"D\"\n",
        "    else:\n",
        "        return \"F\""
      ],
      "metadata": {
        "id": "k7McE2cW35Bt"
      },
      "execution_count": null,
      "outputs": []
    },
    {
      "cell_type": "code",
      "source": [
        "# Calling the function\n",
        "grade = get_grade(85)\n",
        "print(grade)"
      ],
      "metadata": {
        "colab": {
          "base_uri": "https://localhost:8080/"
        },
        "id": "v3ofj6D7Moxt",
        "outputId": "4e4715af-20eb-46af-c614-cec0d878d5f4"
      },
      "execution_count": null,
      "outputs": [
        {
          "output_type": "stream",
          "name": "stdout",
          "text": [
            "B\n"
          ]
        }
      ]
    },
    {
      "cell_type": "markdown",
      "source": [
        "In the above example, the function get_grade takes a score as input and returns the corresponding grade. It uses multiple return statements with conditional statements (if, elif, else) to determine the grade based on the score. Depending on the value of score, a different return statement is executed, and the corresponding grade is returned.\n",
        "\n",
        "**Once a return statement is encountered in a function, the execution of the function is immediately stopped, and the specified value is returned.**\n",
        "\n",
        "Therefore, if there are multiple return statements in a function, only one of them will be executed based on the condition that matches, and the function will exit at that point."
      ],
      "metadata": {
        "id": "d3MDO6txMyTN"
      }
    },
    {
      "cell_type": "markdown",
      "source": [
        "**Question 4:** What are lambda functions in Python? How are they different from regular functions? Provide an example where a lambda function can be useful."
      ],
      "metadata": {
        "id": "JXL7hBB-1av5"
      }
    },
    {
      "cell_type": "markdown",
      "source": [
        "**Lambda functions**, also known as **anonymous functions**, are small, **inline functions** in Python that are defined without a name. They are created using the lambda keyword and are typically used for simple, one-line expressions.\n",
        "\n",
        "Here's the general syntax of a lambda function: lambda arguments: expression"
      ],
      "metadata": {
        "id": "tvGCMh7qNb3H"
      }
    },
    {
      "cell_type": "markdown",
      "source": [
        "Lambda functions can take any number of arguments but can only have a single expression. The result of the expression is automatically returned by the lambda function.\n",
        "\n",
        "Lambda functions are different from regular functions in the following ways:\n",
        "\n",
        "**Syntax:** Lambda functions have a compact syntax and are defined in a single line, whereas regular functions have a more extensive syntax and can span multiple lines.\n",
        "\n",
        "**Name:** Lambda functions are anonymous and do not have a specific name. They are usually assigned to variables or used as function arguments. Regular functions have a defined name and can be called directly using that name.\n",
        "\n",
        "**Usage:** Lambda functions are often used for small, one-time operations or as arguments to higher-order functions, such as map(), filter(), and sort(), where a function is required as a parameter.\n",
        "\n",
        "Here's an example where a lambda function can be useful:"
      ],
      "metadata": {
        "id": "zggCH3edNqPp"
      }
    },
    {
      "cell_type": "code",
      "source": [
        "# Using lambda function with map()\n",
        "numbers = [1, 2, 3, 4, 5]\n",
        "squared_numbers = map(lambda x: x**2, numbers)\n",
        "print(list(squared_numbers))  # Output: [1, 4, 9, 16, 25]"
      ],
      "metadata": {
        "colab": {
          "base_uri": "https://localhost:8080/"
        },
        "id": "WhHmQo6qOEl4",
        "outputId": "c9f447e1-ceee-4188-9c89-ddfbc41a8bf7"
      },
      "execution_count": null,
      "outputs": [
        {
          "output_type": "stream",
          "name": "stdout",
          "text": [
            "[1, 4, 9, 16, 25]\n"
          ]
        }
      ]
    },
    {
      "cell_type": "markdown",
      "source": [
        "In the above example, a lambda function is used with the map() function to square each element in the numbers list. The lambda function lambda x: x**2 takes an argument x and returns its square. The map() function applies this lambda function to each element of the numbers list, returning a new list squared_numbers containing the squared values.\n",
        "\n",
        "**Lambda functions are convenient in situations where a small, short-lived function is needed and it doesn't make sense to define a separate named function. They provide a concise way to express simple operations without the need for defining a full-fledged function.**"
      ],
      "metadata": {
        "id": "LFROfLvQOQjQ"
      }
    },
    {
      "cell_type": "markdown",
      "source": [
        "**Question 5:** How does the concept of \"scope\" apply to functions in Python? Explain the difference between local scope and global scope."
      ],
      "metadata": {
        "id": "R9DDHCVR1a3w"
      }
    },
    {
      "cell_type": "markdown",
      "source": [
        "In Python, \"scope\" refers to the visibility and accessibility of variables within a program. It determines the portion of the code where a particular variable can be referenced or modified. The concept of scope is crucial in understanding how variables are managed and accessed in different parts of a program.\n",
        "\n",
        "In Python, functions play a significant role in defining scopes. The scope of a variable is determined by its location within the code, specifically whether it is defined inside or outside a function. The two main types of scopes in Python are local scope and global scope.\n",
        "\n",
        "**Local Scope:**\n",
        "\n",
        "1. Local scope refers to the variables that are defined inside a function. These variables are accessible only within that specific function.\n",
        "\n",
        "2. Local variables are created when the function is called and are destroyed when the function completes execution or returns.\n",
        "\n",
        "3. Local variables cannot be accessed or modified outside the function in which they are defined.\n",
        "\n",
        "4. Each function call creates a new instance of local variables, and they are independent of other function calls.\n",
        "\n",
        "**Example:**"
      ],
      "metadata": {
        "id": "n-4zPNfYPTF6"
      }
    },
    {
      "cell_type": "code",
      "source": [
        "def my_function():\n",
        "    x = 10  # Local variable\n",
        "    print(x)\n",
        "\n",
        "my_function()  # Output: 10\n",
        "print(x)  # Raises an error: NameError: name 'x' is not defined"
      ],
      "metadata": {
        "colab": {
          "base_uri": "https://localhost:8080/"
        },
        "id": "4VefIpgFQdk6",
        "outputId": "cdaebd8e-579c-48ce-c670-e493d60686d0"
      },
      "execution_count": null,
      "outputs": [
        {
          "output_type": "stream",
          "name": "stdout",
          "text": [
            "10\n",
            "20\n"
          ]
        }
      ]
    },
    {
      "cell_type": "markdown",
      "source": [
        "**Global Scope:**\n",
        "\n",
        "1. Global scope refers to the variables that are defined outside any function or at the top level of a module.\n",
        "\n",
        "2. Global variables are accessible throughout the entire program, including all functions within that program.\n",
        "\n",
        "3. Global variables can be accessed and modified both inside and outside functions.\n",
        "\n",
        "4. Global variables retain their values as long as the program is running or until they are explicitly changed.\n",
        "\n",
        "**Example:**"
      ],
      "metadata": {
        "id": "lyINBEPyQLX9"
      }
    },
    {
      "cell_type": "code",
      "source": [
        "x = 10  # Global variable\n",
        "\n",
        "def my_function():\n",
        "    print(x)  # Accessing global variable\n",
        "\n",
        "my_function()  # Output: 10\n",
        "print(x)  # Output: 10\n",
        "\n",
        "def another_function():\n",
        "    global x  # Using the 'global' keyword to modify global variable\n",
        "    x = 20\n",
        "    print(x)  # Output: 20\n",
        "\n",
        "another_function()\n",
        "print(x)  # Output: 20"
      ],
      "metadata": {
        "colab": {
          "base_uri": "https://localhost:8080/"
        },
        "id": "0wVnL8HDQUpH",
        "outputId": "ac5afb2d-5c46-43f1-d325-9770df4e6242"
      },
      "execution_count": null,
      "outputs": [
        {
          "output_type": "stream",
          "name": "stdout",
          "text": [
            "10\n",
            "10\n",
            "20\n",
            "20\n"
          ]
        }
      ]
    },
    {
      "cell_type": "markdown",
      "source": [
        "It's important to note that **local variables take precedence over global variables with the same name**. If a variable is defined locally within a function, it will be used instead of the global variable with the same name. To access the global variable within a function, the global keyword can be used.\n",
        "\n",
        "**Understanding scope helps in writing clean and organized code by preventing naming conflicts and providing a clear understanding of where variables are defined and used.**"
      ],
      "metadata": {
        "id": "5xwvYrDIQ1Ym"
      }
    },
    {
      "cell_type": "markdown",
      "source": [
        "**Question 6:** How can you use the \"return\" statement in a Python function to return multiple values?"
      ],
      "metadata": {
        "id": "BXfh4Zg41bGr"
      }
    },
    {
      "cell_type": "markdown",
      "source": [
        "In Python, the **return statement is used to exit a function and return a value to the caller**. While a function can only directly return a single value, you can return multiple values by using different data structures like tuples, lists, or dictionaries. Here are a few approaches to return multiple values from a function:\n",
        "\n",
        "**Returning a Tuple:**\n",
        "You can pack multiple values into a tuple and return it. The caller can then unpack the tuple into separate variables.\n",
        "\n",
        "**Example:**"
      ],
      "metadata": {
        "id": "zRPF85NuRMnz"
      }
    },
    {
      "cell_type": "code",
      "source": [
        "def get_details():\n",
        "    name = \"John\"\n",
        "    age = 25\n",
        "    city = \"New York\"\n",
        "    return name, age, city"
      ],
      "metadata": {
        "id": "FIGQrh8737Xv"
      },
      "execution_count": null,
      "outputs": []
    },
    {
      "cell_type": "code",
      "source": [
        "# Unpacking the returned tuple into separate variables\n",
        "name, age, city = get_details()\n",
        "print(name)  # Output: John\n",
        "print(age)  # Output: 25\n",
        "print(city)  # Output: New York"
      ],
      "metadata": {
        "colab": {
          "base_uri": "https://localhost:8080/"
        },
        "id": "RO6xq5_JRXky",
        "outputId": "001a96f2-ae8a-4a8a-b33a-a0c66d7842fe"
      },
      "execution_count": null,
      "outputs": [
        {
          "output_type": "stream",
          "name": "stdout",
          "text": [
            "John\n",
            "25\n",
            "New York\n"
          ]
        }
      ]
    },
    {
      "cell_type": "markdown",
      "source": [
        "**Returning a List:**\n",
        "Similar to tuples, you can pack multiple values into a list and return it. The caller can then access the list elements by index.\n",
        "\n",
        "**Example:**"
      ],
      "metadata": {
        "id": "X-c9VrngRc1H"
      }
    },
    {
      "cell_type": "code",
      "source": [
        "def get_numbers():\n",
        "    num1 = 10\n",
        "    num2 = 20\n",
        "    num3 = 30\n",
        "    return [num1, num2, num3]"
      ],
      "metadata": {
        "id": "FO2ZxSiqRjI-"
      },
      "execution_count": null,
      "outputs": []
    },
    {
      "cell_type": "code",
      "source": [
        "numbers = get_numbers()\n",
        "print(numbers[0])  # Output: 10\n",
        "print(numbers[1])  # Output: 20\n",
        "print(numbers[2])  # Output: 30"
      ],
      "metadata": {
        "colab": {
          "base_uri": "https://localhost:8080/"
        },
        "id": "8bZufuyqRkxR",
        "outputId": "aeb67028-0301-4f11-a846-1578c8858791"
      },
      "execution_count": null,
      "outputs": [
        {
          "output_type": "stream",
          "name": "stdout",
          "text": [
            "10\n",
            "20\n",
            "30\n"
          ]
        }
      ]
    },
    {
      "cell_type": "markdown",
      "source": [
        "**Returning a Dictionary:**\n",
        "You can create a dictionary with meaningful keys and assign the values to them. The caller can then access the values using the corresponding keys.\n",
        "\n",
        "**Example:**"
      ],
      "metadata": {
        "id": "bB6FTQfqRxas"
      }
    },
    {
      "cell_type": "code",
      "source": [
        "def get_student():\n",
        "    student = {\n",
        "        \"name\": \"Alice\",\n",
        "        \"age\": 21,\n",
        "        \"grade\": \"A\"\n",
        "    }\n",
        "    return student"
      ],
      "metadata": {
        "id": "zoo312YkR0Tl"
      },
      "execution_count": null,
      "outputs": []
    },
    {
      "cell_type": "code",
      "source": [
        "student = get_student()\n",
        "print(student[\"name\"])  # Output: Alice\n",
        "print(student[\"age\"])  # Output: 21\n",
        "print(student[\"grade\"])  # Output: A"
      ],
      "metadata": {
        "colab": {
          "base_uri": "https://localhost:8080/"
        },
        "id": "QFUBtpZJR4wM",
        "outputId": "959e0ef5-b715-4845-9f19-fb00cca9b9cd"
      },
      "execution_count": null,
      "outputs": [
        {
          "output_type": "stream",
          "name": "stdout",
          "text": [
            "Alice\n",
            "21\n",
            "A\n"
          ]
        }
      ]
    },
    {
      "cell_type": "markdown",
      "source": [
        "**By using these approaches, we can effectively return and work with multiple values from a Python function. The choice of the data structure depends on the specific requirements and the type of data being returned.**"
      ],
      "metadata": {
        "id": "xHFdUxZHR-oJ"
      }
    },
    {
      "cell_type": "markdown",
      "source": [
        "**Question 7:** What is the difference between the \"pass by value\" and \"pass by reference\" concepts when it comes to function arguments in Python?"
      ],
      "metadata": {
        "id": "UWkdFIYt1bNh"
      }
    },
    {
      "cell_type": "markdown",
      "source": [
        "In Python, the concept of \"pass by value\" and \"pass by reference\" can be a bit different from traditional understandings in other programming languages. In Python, the behavior depends on the type of the object being passed as an argument.\n",
        "\n",
        "**Pass by Value:**\n",
        "When a function is called with an immutable object as an argument, such as numbers, strings, or tuples, the value is passed by value. It means that a copy of the object is created, and any modifications made within the function do not affect the original object outside the function.\n",
        "\n",
        "**Example:**"
      ],
      "metadata": {
        "id": "rgV_lTGYSSKa"
      }
    },
    {
      "cell_type": "code",
      "source": [
        "def modify_value(num):\n",
        "    num = 10\n",
        "    print(\"Inside the function:\", num)"
      ],
      "metadata": {
        "id": "md4Kn8dVSUwu"
      },
      "execution_count": null,
      "outputs": []
    },
    {
      "cell_type": "code",
      "source": [
        "x = 5\n",
        "modify_value(x)\n",
        "print(\"Outside the function:\", x)\n",
        "# Output:\n",
        "# Inside the function: 10\n",
        "# Outside the function: 5"
      ],
      "metadata": {
        "colab": {
          "base_uri": "https://localhost:8080/"
        },
        "id": "jZGWi4djSWkB",
        "outputId": "469c74a2-a0fc-48dc-f806-7e7d24e969f0"
      },
      "execution_count": null,
      "outputs": [
        {
          "output_type": "stream",
          "name": "stdout",
          "text": [
            "Inside the function: 10\n",
            "Outside the function: 5\n"
          ]
        }
      ]
    },
    {
      "cell_type": "markdown",
      "source": [
        "In the example above, even though the value of num is modified inside the function, it does not change the value of x outside the function.\n",
        "\n",
        "**Pass by Reference:**\n",
        "When a function is called with a mutable object as an argument, such as lists or dictionaries, the reference to the object is passed by value. It means that changes made to the object within the function will affect the original object outside the function.\n",
        "\n",
        "**Example:**"
      ],
      "metadata": {
        "id": "OdxclgY4SheA"
      }
    },
    {
      "cell_type": "code",
      "source": [
        "def modify_list(my_list):\n",
        "    my_list.append(4)\n",
        "    my_list[0] = 100\n",
        "    print(\"Inside the function:\", my_list)"
      ],
      "metadata": {
        "id": "hgmcnC9238Nm"
      },
      "execution_count": null,
      "outputs": []
    },
    {
      "cell_type": "code",
      "source": [
        "numbers = [1, 2, 3]\n",
        "modify_list(numbers)\n",
        "print(\"Outside the function:\", numbers)\n",
        "# Output:\n",
        "# Inside the function: [100, 2, 3, 4]\n",
        "# Outside the function: [100, 2, 3, 4]"
      ],
      "metadata": {
        "colab": {
          "base_uri": "https://localhost:8080/"
        },
        "id": "R8_-5KDDSqwC",
        "outputId": "47d17354-0d4f-4a9b-fa1b-5419ba4055cf"
      },
      "execution_count": null,
      "outputs": [
        {
          "output_type": "stream",
          "name": "stdout",
          "text": [
            "Inside the function: [100, 2, 3, 4]\n",
            "Outside the function: [100, 2, 3, 4]\n"
          ]
        }
      ]
    },
    {
      "cell_type": "markdown",
      "source": [
        "In this example, the modifications made to the my_list parameter inside the function are reflected in the original numbers list outside the function.\n",
        "\n",
        "**Python uses a combination of \"pass by value\" and \"pass by reference\" depending on the type of the object being passed. Immutable objects are passed by value, while mutable objects are passed by reference.** It's important to keep this behavior in mind when working with function arguments in Python."
      ],
      "metadata": {
        "id": "xAi4al36S9uy"
      }
    },
    {
      "cell_type": "markdown",
      "source": [
        "**Question 8:** Create a function that can intake integer or decimal value and do following operations:\n",
        "a. Logarithmic function (log x)\n",
        "b. Exponential function (exp(x))\n",
        "c. Power function with base 2 (2^x)\n",
        "d. Square root"
      ],
      "metadata": {
        "id": "S6h8zn2A1bYr"
      }
    },
    {
      "cell_type": "markdown",
      "source": [
        "Here's a Python function that can perform the logarithmic, exponential, power, and square root operations on a given integer or decimal value:"
      ],
      "metadata": {
        "id": "YOdh98sqTXms"
      }
    },
    {
      "cell_type": "code",
      "source": [
        "import math\n",
        "\n",
        "def perform_operations(value):\n",
        "    # Logarithmic function (log x)\n",
        "    log_result = math.log(value)\n",
        "\n",
        "    # Exponential function (exp(x))\n",
        "    exp_result = math.exp(value)\n",
        "\n",
        "    # Power function with base 2 (2^x)\n",
        "    power_result = math.pow(2, value)\n",
        "\n",
        "    # Square root\n",
        "    sqrt_result = math.sqrt(value)\n",
        "\n",
        "    # Print the results\n",
        "    print(\"Logarithmic function (log x):\", log_result)\n",
        "    print(\"Exponential function (exp(x)):\", exp_result)\n",
        "    print(\"Power function with base 2 (2^x):\", power_result)\n",
        "    print(\"Square root:\", sqrt_result)"
      ],
      "metadata": {
        "id": "5Bs9ktiM382C"
      },
      "execution_count": null,
      "outputs": []
    },
    {
      "cell_type": "code",
      "source": [
        "# Test the function\n",
        "perform_operations(4)     # Test with an integer value\n",
        "perform_operations(2.5)   # Test with a decimal value"
      ],
      "metadata": {
        "colab": {
          "base_uri": "https://localhost:8080/"
        },
        "id": "6nsGq1GaTe_1",
        "outputId": "92517b7f-edff-45ae-b381-2b58c7e30f4c"
      },
      "execution_count": null,
      "outputs": [
        {
          "output_type": "stream",
          "name": "stdout",
          "text": [
            "Logarithmic function (log x): 1.3862943611198906\n",
            "Exponential function (exp(x)): 54.598150033144236\n",
            "Power function with base 2 (2^x): 16.0\n",
            "Square root: 2.0\n",
            "Logarithmic function (log x): 0.9162907318741551\n",
            "Exponential function (exp(x)): 12.182493960703473\n",
            "Power function with base 2 (2^x): 5.656854249492381\n",
            "Square root: 1.5811388300841898\n"
          ]
        }
      ]
    },
    {
      "cell_type": "markdown",
      "source": [
        "When you call the perform_operations function with a specific value, it will calculate and print the results of the logarithmic, exponential, power, and square root operations for that value.\n",
        "\n",
        "The function uses the math module in Python to access the mathematical functions for logarithm, exponentiation, power, and square root."
      ],
      "metadata": {
        "id": "KxXkPUTUTlzA"
      }
    },
    {
      "cell_type": "markdown",
      "source": [
        "**Question 9:** Create a function that takes a full name as an argument and returns first name and last name."
      ],
      "metadata": {
        "id": "XK6MzlRt07XM"
      }
    },
    {
      "cell_type": "markdown",
      "source": [
        "Here's a Python function that takes a full name as an argument and returns the first name and last name:"
      ],
      "metadata": {
        "id": "cCR6lkjBT0xN"
      }
    },
    {
      "cell_type": "code",
      "execution_count": null,
      "metadata": {
        "id": "8Z0DCTD00vAN"
      },
      "outputs": [],
      "source": [
        "def extract_names(full_name):\n",
        "    names = full_name.split()\n",
        "    first_name = names[0]\n",
        "    last_name = names[-1]\n",
        "    return first_name, last_name"
      ]
    },
    {
      "cell_type": "code",
      "source": [
        "# Test the function\n",
        "full_name = \"Asit Piri\"\n",
        "first, last = extract_names(full_name)\n",
        "print(\"First Name:\", first)\n",
        "print(\"Last Name:\", last)"
      ],
      "metadata": {
        "colab": {
          "base_uri": "https://localhost:8080/"
        },
        "id": "assBKROlT6e2",
        "outputId": "21b14488-332b-4ac8-cb4b-edc86becb422"
      },
      "execution_count": null,
      "outputs": [
        {
          "output_type": "stream",
          "name": "stdout",
          "text": [
            "First Name: Asit\n",
            "Last Name: Piri\n"
          ]
        }
      ]
    },
    {
      "cell_type": "markdown",
      "source": [
        "In this example, the extract_names function takes the full_name as an argument. It splits the full name into individual names using the split method, assuming that the names are separated by spaces. It then assigns the first name to first_name variable by accessing the element at index 0, and the last name to last_name variable by accessing the last element using the index -1. Finally, it returns the first name and last name as a tuple.\n",
        "\n",
        "When you call the extract_names function with a full name, it will return the first name and last name separately. We can assign them to variables and use them as needed."
      ],
      "metadata": {
        "id": "YnF7GTQBT8y1"
      }
    }
  ]
}